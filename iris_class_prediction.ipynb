{
  "cells": [
    {
      "cell_type": "code",
      "execution_count": 1,
      "metadata": {
        "id": "GZKdfI9WV0gk"
      },
      "outputs": [],
      "source": [
        "import pandas as pd\n",
        "import numpy as np\n",
        "import matplotlib.pyplot as plt\n",
        "import seaborn as sns\n",
        "%matplotlib inline\n",
        "\n",
        "from sklearn.model_selection import train_test_split\n",
        "from sklearn.model_selection import GridSearchCV\n",
        "from sklearn.metrics import accuracy_score, precision_score, recall_score, classification_report\n",
        "\n",
        "import joblib\n",
        "from time import time\n",
        "\n",
        "import warnings\n",
        "warnings.filterwarnings('ignore', category=FutureWarning)\n",
        "warnings.filterwarnings('ignore', category=DeprecationWarning)"
      ]
    },
    {
      "cell_type": "markdown",
      "metadata": {
        "id": "ABgs3xSvYdAD"
      },
      "source": [
        "#### Data load & Preview"
      ]
    },
    {
      "cell_type": "code",
      "execution_count": 2,
      "metadata": {
        "colab": {
          "base_uri": "https://localhost:8080/",
          "height": 206
        },
        "id": "CzZ00PrFW6rF",
        "outputId": "3d58920f-06bd-442e-f42b-92d553b7eee8"
      },
      "outputs": [
        {
          "data": {
            "text/html": [
              "\n",
              "  <div id=\"df-6835f69c-7b3b-43b3-8661-b234a7ca94b6\">\n",
              "    <div class=\"colab-df-container\">\n",
              "      <div>\n",
              "<style scoped>\n",
              "    .dataframe tbody tr th:only-of-type {\n",
              "        vertical-align: middle;\n",
              "    }\n",
              "\n",
              "    .dataframe tbody tr th {\n",
              "        vertical-align: top;\n",
              "    }\n",
              "\n",
              "    .dataframe thead th {\n",
              "        text-align: right;\n",
              "    }\n",
              "</style>\n",
              "<table border=\"1\" class=\"dataframe\">\n",
              "  <thead>\n",
              "    <tr style=\"text-align: right;\">\n",
              "      <th></th>\n",
              "      <th>sepal.length</th>\n",
              "      <th>sepal.width</th>\n",
              "      <th>petal.length</th>\n",
              "      <th>petal.width</th>\n",
              "      <th>variety</th>\n",
              "    </tr>\n",
              "  </thead>\n",
              "  <tbody>\n",
              "    <tr>\n",
              "      <th>0</th>\n",
              "      <td>5.1</td>\n",
              "      <td>3.5</td>\n",
              "      <td>1.4</td>\n",
              "      <td>0.2</td>\n",
              "      <td>Setosa</td>\n",
              "    </tr>\n",
              "    <tr>\n",
              "      <th>1</th>\n",
              "      <td>4.9</td>\n",
              "      <td>3.0</td>\n",
              "      <td>1.4</td>\n",
              "      <td>0.2</td>\n",
              "      <td>Setosa</td>\n",
              "    </tr>\n",
              "    <tr>\n",
              "      <th>2</th>\n",
              "      <td>4.7</td>\n",
              "      <td>3.2</td>\n",
              "      <td>1.3</td>\n",
              "      <td>0.2</td>\n",
              "      <td>Setosa</td>\n",
              "    </tr>\n",
              "    <tr>\n",
              "      <th>3</th>\n",
              "      <td>4.6</td>\n",
              "      <td>3.1</td>\n",
              "      <td>1.5</td>\n",
              "      <td>0.2</td>\n",
              "      <td>Setosa</td>\n",
              "    </tr>\n",
              "    <tr>\n",
              "      <th>4</th>\n",
              "      <td>5.0</td>\n",
              "      <td>3.6</td>\n",
              "      <td>1.4</td>\n",
              "      <td>0.2</td>\n",
              "      <td>Setosa</td>\n",
              "    </tr>\n",
              "  </tbody>\n",
              "</table>\n",
              "</div>\n",
              "      <button class=\"colab-df-convert\" onclick=\"convertToInteractive('df-6835f69c-7b3b-43b3-8661-b234a7ca94b6')\"\n",
              "              title=\"Convert this dataframe to an interactive table.\"\n",
              "              style=\"display:none;\">\n",
              "        \n",
              "  <svg xmlns=\"http://www.w3.org/2000/svg\" height=\"24px\"viewBox=\"0 0 24 24\"\n",
              "       width=\"24px\">\n",
              "    <path d=\"M0 0h24v24H0V0z\" fill=\"none\"/>\n",
              "    <path d=\"M18.56 5.44l.94 2.06.94-2.06 2.06-.94-2.06-.94-.94-2.06-.94 2.06-2.06.94zm-11 1L8.5 8.5l.94-2.06 2.06-.94-2.06-.94L8.5 2.5l-.94 2.06-2.06.94zm10 10l.94 2.06.94-2.06 2.06-.94-2.06-.94-.94-2.06-.94 2.06-2.06.94z\"/><path d=\"M17.41 7.96l-1.37-1.37c-.4-.4-.92-.59-1.43-.59-.52 0-1.04.2-1.43.59L10.3 9.45l-7.72 7.72c-.78.78-.78 2.05 0 2.83L4 21.41c.39.39.9.59 1.41.59.51 0 1.02-.2 1.41-.59l7.78-7.78 2.81-2.81c.8-.78.8-2.07 0-2.86zM5.41 20L4 18.59l7.72-7.72 1.47 1.35L5.41 20z\"/>\n",
              "  </svg>\n",
              "      </button>\n",
              "      \n",
              "  <style>\n",
              "    .colab-df-container {\n",
              "      display:flex;\n",
              "      flex-wrap:wrap;\n",
              "      gap: 12px;\n",
              "    }\n",
              "\n",
              "    .colab-df-convert {\n",
              "      background-color: #E8F0FE;\n",
              "      border: none;\n",
              "      border-radius: 50%;\n",
              "      cursor: pointer;\n",
              "      display: none;\n",
              "      fill: #1967D2;\n",
              "      height: 32px;\n",
              "      padding: 0 0 0 0;\n",
              "      width: 32px;\n",
              "    }\n",
              "\n",
              "    .colab-df-convert:hover {\n",
              "      background-color: #E2EBFA;\n",
              "      box-shadow: 0px 1px 2px rgba(60, 64, 67, 0.3), 0px 1px 3px 1px rgba(60, 64, 67, 0.15);\n",
              "      fill: #174EA6;\n",
              "    }\n",
              "\n",
              "    [theme=dark] .colab-df-convert {\n",
              "      background-color: #3B4455;\n",
              "      fill: #D2E3FC;\n",
              "    }\n",
              "\n",
              "    [theme=dark] .colab-df-convert:hover {\n",
              "      background-color: #434B5C;\n",
              "      box-shadow: 0px 1px 3px 1px rgba(0, 0, 0, 0.15);\n",
              "      filter: drop-shadow(0px 1px 2px rgba(0, 0, 0, 0.3));\n",
              "      fill: #FFFFFF;\n",
              "    }\n",
              "  </style>\n",
              "\n",
              "      <script>\n",
              "        const buttonEl =\n",
              "          document.querySelector('#df-6835f69c-7b3b-43b3-8661-b234a7ca94b6 button.colab-df-convert');\n",
              "        buttonEl.style.display =\n",
              "          google.colab.kernel.accessAllowed ? 'block' : 'none';\n",
              "\n",
              "        async function convertToInteractive(key) {\n",
              "          const element = document.querySelector('#df-6835f69c-7b3b-43b3-8661-b234a7ca94b6');\n",
              "          const dataTable =\n",
              "            await google.colab.kernel.invokeFunction('convertToInteractive',\n",
              "                                                     [key], {});\n",
              "          if (!dataTable) return;\n",
              "\n",
              "          const docLinkHtml = 'Like what you see? Visit the ' +\n",
              "            '<a target=\"_blank\" href=https://colab.research.google.com/notebooks/data_table.ipynb>data table notebook</a>'\n",
              "            + ' to learn more about interactive tables.';\n",
              "          element.innerHTML = '';\n",
              "          dataTable['output_type'] = 'display_data';\n",
              "          await google.colab.output.renderOutput(dataTable, element);\n",
              "          const docLink = document.createElement('div');\n",
              "          docLink.innerHTML = docLinkHtml;\n",
              "          element.appendChild(docLink);\n",
              "        }\n",
              "      </script>\n",
              "    </div>\n",
              "  </div>\n",
              "  "
            ],
            "text/plain": [
              "   sepal.length  sepal.width  petal.length  petal.width variety\n",
              "0           5.1          3.5           1.4          0.2  Setosa\n",
              "1           4.9          3.0           1.4          0.2  Setosa\n",
              "2           4.7          3.2           1.3          0.2  Setosa\n",
              "3           4.6          3.1           1.5          0.2  Setosa\n",
              "4           5.0          3.6           1.4          0.2  Setosa"
            ]
          },
          "execution_count": 2,
          "metadata": {},
          "output_type": "execute_result"
        }
      ],
      "source": [
        "df = pd.read_csv(\"iris.csv\")\n",
        "df.head()"
      ]
    },
    {
      "cell_type": "code",
      "execution_count": 3,
      "metadata": {
        "colab": {
          "base_uri": "https://localhost:8080/"
        },
        "id": "TPB3yHnQYD1K",
        "outputId": "aed5d0b5-52e9-4ab3-f6a6-3832052a9d7b"
      },
      "outputs": [
        {
          "name": "stdout",
          "output_type": "stream",
          "text": [
            "<class 'pandas.core.frame.DataFrame'>\n",
            "RangeIndex: 150 entries, 0 to 149\n",
            "Data columns (total 5 columns):\n",
            " #   Column        Non-Null Count  Dtype  \n",
            "---  ------        --------------  -----  \n",
            " 0   sepal.length  150 non-null    float64\n",
            " 1   sepal.width   150 non-null    float64\n",
            " 2   petal.length  150 non-null    float64\n",
            " 3   petal.width   150 non-null    float64\n",
            " 4   variety       150 non-null    object \n",
            "dtypes: float64(4), object(1)\n",
            "memory usage: 6.0+ KB\n"
          ]
        }
      ],
      "source": [
        "df.info()"
      ]
    },
    {
      "cell_type": "markdown",
      "metadata": {
        "id": "gnUEGd1fYnfh"
      },
      "source": [
        "The data has no null values and all the columns are in the correct data types. "
      ]
    },
    {
      "cell_type": "code",
      "execution_count": 4,
      "metadata": {
        "colab": {
          "base_uri": "https://localhost:8080/",
          "height": 300
        },
        "id": "_hYz8uwcXA-T",
        "outputId": "f65c8713-18ab-4002-cc92-033e5d64d1d6"
      },
      "outputs": [
        {
          "data": {
            "text/html": [
              "\n",
              "  <div id=\"df-a6a1c147-55f2-488f-8ac0-6940454950a6\">\n",
              "    <div class=\"colab-df-container\">\n",
              "      <div>\n",
              "<style scoped>\n",
              "    .dataframe tbody tr th:only-of-type {\n",
              "        vertical-align: middle;\n",
              "    }\n",
              "\n",
              "    .dataframe tbody tr th {\n",
              "        vertical-align: top;\n",
              "    }\n",
              "\n",
              "    .dataframe thead th {\n",
              "        text-align: right;\n",
              "    }\n",
              "</style>\n",
              "<table border=\"1\" class=\"dataframe\">\n",
              "  <thead>\n",
              "    <tr style=\"text-align: right;\">\n",
              "      <th></th>\n",
              "      <th>sepal.length</th>\n",
              "      <th>sepal.width</th>\n",
              "      <th>petal.length</th>\n",
              "      <th>petal.width</th>\n",
              "    </tr>\n",
              "  </thead>\n",
              "  <tbody>\n",
              "    <tr>\n",
              "      <th>count</th>\n",
              "      <td>150.000000</td>\n",
              "      <td>150.000000</td>\n",
              "      <td>150.000000</td>\n",
              "      <td>150.000000</td>\n",
              "    </tr>\n",
              "    <tr>\n",
              "      <th>mean</th>\n",
              "      <td>5.843333</td>\n",
              "      <td>3.057333</td>\n",
              "      <td>3.758000</td>\n",
              "      <td>1.199333</td>\n",
              "    </tr>\n",
              "    <tr>\n",
              "      <th>std</th>\n",
              "      <td>0.828066</td>\n",
              "      <td>0.435866</td>\n",
              "      <td>1.765298</td>\n",
              "      <td>0.762238</td>\n",
              "    </tr>\n",
              "    <tr>\n",
              "      <th>min</th>\n",
              "      <td>4.300000</td>\n",
              "      <td>2.000000</td>\n",
              "      <td>1.000000</td>\n",
              "      <td>0.100000</td>\n",
              "    </tr>\n",
              "    <tr>\n",
              "      <th>25%</th>\n",
              "      <td>5.100000</td>\n",
              "      <td>2.800000</td>\n",
              "      <td>1.600000</td>\n",
              "      <td>0.300000</td>\n",
              "    </tr>\n",
              "    <tr>\n",
              "      <th>50%</th>\n",
              "      <td>5.800000</td>\n",
              "      <td>3.000000</td>\n",
              "      <td>4.350000</td>\n",
              "      <td>1.300000</td>\n",
              "    </tr>\n",
              "    <tr>\n",
              "      <th>75%</th>\n",
              "      <td>6.400000</td>\n",
              "      <td>3.300000</td>\n",
              "      <td>5.100000</td>\n",
              "      <td>1.800000</td>\n",
              "    </tr>\n",
              "    <tr>\n",
              "      <th>max</th>\n",
              "      <td>7.900000</td>\n",
              "      <td>4.400000</td>\n",
              "      <td>6.900000</td>\n",
              "      <td>2.500000</td>\n",
              "    </tr>\n",
              "  </tbody>\n",
              "</table>\n",
              "</div>\n",
              "      <button class=\"colab-df-convert\" onclick=\"convertToInteractive('df-a6a1c147-55f2-488f-8ac0-6940454950a6')\"\n",
              "              title=\"Convert this dataframe to an interactive table.\"\n",
              "              style=\"display:none;\">\n",
              "        \n",
              "  <svg xmlns=\"http://www.w3.org/2000/svg\" height=\"24px\"viewBox=\"0 0 24 24\"\n",
              "       width=\"24px\">\n",
              "    <path d=\"M0 0h24v24H0V0z\" fill=\"none\"/>\n",
              "    <path d=\"M18.56 5.44l.94 2.06.94-2.06 2.06-.94-2.06-.94-.94-2.06-.94 2.06-2.06.94zm-11 1L8.5 8.5l.94-2.06 2.06-.94-2.06-.94L8.5 2.5l-.94 2.06-2.06.94zm10 10l.94 2.06.94-2.06 2.06-.94-2.06-.94-.94-2.06-.94 2.06-2.06.94z\"/><path d=\"M17.41 7.96l-1.37-1.37c-.4-.4-.92-.59-1.43-.59-.52 0-1.04.2-1.43.59L10.3 9.45l-7.72 7.72c-.78.78-.78 2.05 0 2.83L4 21.41c.39.39.9.59 1.41.59.51 0 1.02-.2 1.41-.59l7.78-7.78 2.81-2.81c.8-.78.8-2.07 0-2.86zM5.41 20L4 18.59l7.72-7.72 1.47 1.35L5.41 20z\"/>\n",
              "  </svg>\n",
              "      </button>\n",
              "      \n",
              "  <style>\n",
              "    .colab-df-container {\n",
              "      display:flex;\n",
              "      flex-wrap:wrap;\n",
              "      gap: 12px;\n",
              "    }\n",
              "\n",
              "    .colab-df-convert {\n",
              "      background-color: #E8F0FE;\n",
              "      border: none;\n",
              "      border-radius: 50%;\n",
              "      cursor: pointer;\n",
              "      display: none;\n",
              "      fill: #1967D2;\n",
              "      height: 32px;\n",
              "      padding: 0 0 0 0;\n",
              "      width: 32px;\n",
              "    }\n",
              "\n",
              "    .colab-df-convert:hover {\n",
              "      background-color: #E2EBFA;\n",
              "      box-shadow: 0px 1px 2px rgba(60, 64, 67, 0.3), 0px 1px 3px 1px rgba(60, 64, 67, 0.15);\n",
              "      fill: #174EA6;\n",
              "    }\n",
              "\n",
              "    [theme=dark] .colab-df-convert {\n",
              "      background-color: #3B4455;\n",
              "      fill: #D2E3FC;\n",
              "    }\n",
              "\n",
              "    [theme=dark] .colab-df-convert:hover {\n",
              "      background-color: #434B5C;\n",
              "      box-shadow: 0px 1px 3px 1px rgba(0, 0, 0, 0.15);\n",
              "      filter: drop-shadow(0px 1px 2px rgba(0, 0, 0, 0.3));\n",
              "      fill: #FFFFFF;\n",
              "    }\n",
              "  </style>\n",
              "\n",
              "      <script>\n",
              "        const buttonEl =\n",
              "          document.querySelector('#df-a6a1c147-55f2-488f-8ac0-6940454950a6 button.colab-df-convert');\n",
              "        buttonEl.style.display =\n",
              "          google.colab.kernel.accessAllowed ? 'block' : 'none';\n",
              "\n",
              "        async function convertToInteractive(key) {\n",
              "          const element = document.querySelector('#df-a6a1c147-55f2-488f-8ac0-6940454950a6');\n",
              "          const dataTable =\n",
              "            await google.colab.kernel.invokeFunction('convertToInteractive',\n",
              "                                                     [key], {});\n",
              "          if (!dataTable) return;\n",
              "\n",
              "          const docLinkHtml = 'Like what you see? Visit the ' +\n",
              "            '<a target=\"_blank\" href=https://colab.research.google.com/notebooks/data_table.ipynb>data table notebook</a>'\n",
              "            + ' to learn more about interactive tables.';\n",
              "          element.innerHTML = '';\n",
              "          dataTable['output_type'] = 'display_data';\n",
              "          await google.colab.output.renderOutput(dataTable, element);\n",
              "          const docLink = document.createElement('div');\n",
              "          docLink.innerHTML = docLinkHtml;\n",
              "          element.appendChild(docLink);\n",
              "        }\n",
              "      </script>\n",
              "    </div>\n",
              "  </div>\n",
              "  "
            ],
            "text/plain": [
              "       sepal.length  sepal.width  petal.length  petal.width\n",
              "count    150.000000   150.000000    150.000000   150.000000\n",
              "mean       5.843333     3.057333      3.758000     1.199333\n",
              "std        0.828066     0.435866      1.765298     0.762238\n",
              "min        4.300000     2.000000      1.000000     0.100000\n",
              "25%        5.100000     2.800000      1.600000     0.300000\n",
              "50%        5.800000     3.000000      4.350000     1.300000\n",
              "75%        6.400000     3.300000      5.100000     1.800000\n",
              "max        7.900000     4.400000      6.900000     2.500000"
            ]
          },
          "execution_count": 4,
          "metadata": {},
          "output_type": "execute_result"
        }
      ],
      "source": [
        "df.describe()"
      ]
    },
    {
      "cell_type": "code",
      "execution_count": 5,
      "metadata": {
        "colab": {
          "base_uri": "https://localhost:8080/"
        },
        "id": "sI4FTIsyYHOb",
        "outputId": "0cb13a02-c839-457c-b93c-d93fe23aa31b"
      },
      "outputs": [
        {
          "data": {
            "text/plain": [
              "Setosa        50\n",
              "Versicolor    50\n",
              "Virginica     50\n",
              "Name: variety, dtype: int64"
            ]
          },
          "execution_count": 5,
          "metadata": {},
          "output_type": "execute_result"
        }
      ],
      "source": [
        "df.variety.value_counts()"
      ]
    },
    {
      "cell_type": "markdown",
      "metadata": {
        "id": "MIEDCx_lYw29"
      },
      "source": [
        "The target column is balanced, with 50 rows each for three target values."
      ]
    },
    {
      "cell_type": "markdown",
      "metadata": {
        "id": "LpWFb1IjYZcH"
      },
      "source": [
        "#### EDA"
      ]
    },
    {
      "cell_type": "code",
      "execution_count": 6,
      "metadata": {
        "colab": {
          "base_uri": "https://localhost:8080/",
          "height": 235
        },
        "id": "dVHD28lzYUcK",
        "outputId": "b281fe14-030e-4d0a-b776-ae6ddc366ac4"
      },
      "outputs": [
        {
          "data": {
            "text/html": [
              "\n",
              "  <div id=\"df-308c0a4e-30e9-473e-8d54-d723d8d6eaea\">\n",
              "    <div class=\"colab-df-container\">\n",
              "      <div>\n",
              "<style scoped>\n",
              "    .dataframe tbody tr th:only-of-type {\n",
              "        vertical-align: middle;\n",
              "    }\n",
              "\n",
              "    .dataframe tbody tr th {\n",
              "        vertical-align: top;\n",
              "    }\n",
              "\n",
              "    .dataframe thead tr th {\n",
              "        text-align: left;\n",
              "    }\n",
              "\n",
              "    .dataframe thead tr:last-of-type th {\n",
              "        text-align: right;\n",
              "    }\n",
              "</style>\n",
              "<table border=\"1\" class=\"dataframe\">\n",
              "  <thead>\n",
              "    <tr>\n",
              "      <th></th>\n",
              "      <th colspan=\"8\" halign=\"left\">sepal.length</th>\n",
              "      <th colspan=\"2\" halign=\"left\">sepal.width</th>\n",
              "      <th>...</th>\n",
              "      <th colspan=\"2\" halign=\"left\">petal.length</th>\n",
              "      <th colspan=\"8\" halign=\"left\">petal.width</th>\n",
              "    </tr>\n",
              "    <tr>\n",
              "      <th></th>\n",
              "      <th>count</th>\n",
              "      <th>mean</th>\n",
              "      <th>std</th>\n",
              "      <th>min</th>\n",
              "      <th>25%</th>\n",
              "      <th>50%</th>\n",
              "      <th>75%</th>\n",
              "      <th>max</th>\n",
              "      <th>count</th>\n",
              "      <th>mean</th>\n",
              "      <th>...</th>\n",
              "      <th>75%</th>\n",
              "      <th>max</th>\n",
              "      <th>count</th>\n",
              "      <th>mean</th>\n",
              "      <th>std</th>\n",
              "      <th>min</th>\n",
              "      <th>25%</th>\n",
              "      <th>50%</th>\n",
              "      <th>75%</th>\n",
              "      <th>max</th>\n",
              "    </tr>\n",
              "    <tr>\n",
              "      <th>variety</th>\n",
              "      <th></th>\n",
              "      <th></th>\n",
              "      <th></th>\n",
              "      <th></th>\n",
              "      <th></th>\n",
              "      <th></th>\n",
              "      <th></th>\n",
              "      <th></th>\n",
              "      <th></th>\n",
              "      <th></th>\n",
              "      <th></th>\n",
              "      <th></th>\n",
              "      <th></th>\n",
              "      <th></th>\n",
              "      <th></th>\n",
              "      <th></th>\n",
              "      <th></th>\n",
              "      <th></th>\n",
              "      <th></th>\n",
              "      <th></th>\n",
              "      <th></th>\n",
              "    </tr>\n",
              "  </thead>\n",
              "  <tbody>\n",
              "    <tr>\n",
              "      <th>Setosa</th>\n",
              "      <td>50.0</td>\n",
              "      <td>5.006</td>\n",
              "      <td>0.352490</td>\n",
              "      <td>4.3</td>\n",
              "      <td>4.800</td>\n",
              "      <td>5.0</td>\n",
              "      <td>5.2</td>\n",
              "      <td>5.8</td>\n",
              "      <td>50.0</td>\n",
              "      <td>3.428</td>\n",
              "      <td>...</td>\n",
              "      <td>1.575</td>\n",
              "      <td>1.9</td>\n",
              "      <td>50.0</td>\n",
              "      <td>0.246</td>\n",
              "      <td>0.105386</td>\n",
              "      <td>0.1</td>\n",
              "      <td>0.2</td>\n",
              "      <td>0.2</td>\n",
              "      <td>0.3</td>\n",
              "      <td>0.6</td>\n",
              "    </tr>\n",
              "    <tr>\n",
              "      <th>Versicolor</th>\n",
              "      <td>50.0</td>\n",
              "      <td>5.936</td>\n",
              "      <td>0.516171</td>\n",
              "      <td>4.9</td>\n",
              "      <td>5.600</td>\n",
              "      <td>5.9</td>\n",
              "      <td>6.3</td>\n",
              "      <td>7.0</td>\n",
              "      <td>50.0</td>\n",
              "      <td>2.770</td>\n",
              "      <td>...</td>\n",
              "      <td>4.600</td>\n",
              "      <td>5.1</td>\n",
              "      <td>50.0</td>\n",
              "      <td>1.326</td>\n",
              "      <td>0.197753</td>\n",
              "      <td>1.0</td>\n",
              "      <td>1.2</td>\n",
              "      <td>1.3</td>\n",
              "      <td>1.5</td>\n",
              "      <td>1.8</td>\n",
              "    </tr>\n",
              "    <tr>\n",
              "      <th>Virginica</th>\n",
              "      <td>50.0</td>\n",
              "      <td>6.588</td>\n",
              "      <td>0.635880</td>\n",
              "      <td>4.9</td>\n",
              "      <td>6.225</td>\n",
              "      <td>6.5</td>\n",
              "      <td>6.9</td>\n",
              "      <td>7.9</td>\n",
              "      <td>50.0</td>\n",
              "      <td>2.974</td>\n",
              "      <td>...</td>\n",
              "      <td>5.875</td>\n",
              "      <td>6.9</td>\n",
              "      <td>50.0</td>\n",
              "      <td>2.026</td>\n",
              "      <td>0.274650</td>\n",
              "      <td>1.4</td>\n",
              "      <td>1.8</td>\n",
              "      <td>2.0</td>\n",
              "      <td>2.3</td>\n",
              "      <td>2.5</td>\n",
              "    </tr>\n",
              "  </tbody>\n",
              "</table>\n",
              "<p>3 rows × 32 columns</p>\n",
              "</div>\n",
              "      <button class=\"colab-df-convert\" onclick=\"convertToInteractive('df-308c0a4e-30e9-473e-8d54-d723d8d6eaea')\"\n",
              "              title=\"Convert this dataframe to an interactive table.\"\n",
              "              style=\"display:none;\">\n",
              "        \n",
              "  <svg xmlns=\"http://www.w3.org/2000/svg\" height=\"24px\"viewBox=\"0 0 24 24\"\n",
              "       width=\"24px\">\n",
              "    <path d=\"M0 0h24v24H0V0z\" fill=\"none\"/>\n",
              "    <path d=\"M18.56 5.44l.94 2.06.94-2.06 2.06-.94-2.06-.94-.94-2.06-.94 2.06-2.06.94zm-11 1L8.5 8.5l.94-2.06 2.06-.94-2.06-.94L8.5 2.5l-.94 2.06-2.06.94zm10 10l.94 2.06.94-2.06 2.06-.94-2.06-.94-.94-2.06-.94 2.06-2.06.94z\"/><path d=\"M17.41 7.96l-1.37-1.37c-.4-.4-.92-.59-1.43-.59-.52 0-1.04.2-1.43.59L10.3 9.45l-7.72 7.72c-.78.78-.78 2.05 0 2.83L4 21.41c.39.39.9.59 1.41.59.51 0 1.02-.2 1.41-.59l7.78-7.78 2.81-2.81c.8-.78.8-2.07 0-2.86zM5.41 20L4 18.59l7.72-7.72 1.47 1.35L5.41 20z\"/>\n",
              "  </svg>\n",
              "      </button>\n",
              "      \n",
              "  <style>\n",
              "    .colab-df-container {\n",
              "      display:flex;\n",
              "      flex-wrap:wrap;\n",
              "      gap: 12px;\n",
              "    }\n",
              "\n",
              "    .colab-df-convert {\n",
              "      background-color: #E8F0FE;\n",
              "      border: none;\n",
              "      border-radius: 50%;\n",
              "      cursor: pointer;\n",
              "      display: none;\n",
              "      fill: #1967D2;\n",
              "      height: 32px;\n",
              "      padding: 0 0 0 0;\n",
              "      width: 32px;\n",
              "    }\n",
              "\n",
              "    .colab-df-convert:hover {\n",
              "      background-color: #E2EBFA;\n",
              "      box-shadow: 0px 1px 2px rgba(60, 64, 67, 0.3), 0px 1px 3px 1px rgba(60, 64, 67, 0.15);\n",
              "      fill: #174EA6;\n",
              "    }\n",
              "\n",
              "    [theme=dark] .colab-df-convert {\n",
              "      background-color: #3B4455;\n",
              "      fill: #D2E3FC;\n",
              "    }\n",
              "\n",
              "    [theme=dark] .colab-df-convert:hover {\n",
              "      background-color: #434B5C;\n",
              "      box-shadow: 0px 1px 3px 1px rgba(0, 0, 0, 0.15);\n",
              "      filter: drop-shadow(0px 1px 2px rgba(0, 0, 0, 0.3));\n",
              "      fill: #FFFFFF;\n",
              "    }\n",
              "  </style>\n",
              "\n",
              "      <script>\n",
              "        const buttonEl =\n",
              "          document.querySelector('#df-308c0a4e-30e9-473e-8d54-d723d8d6eaea button.colab-df-convert');\n",
              "        buttonEl.style.display =\n",
              "          google.colab.kernel.accessAllowed ? 'block' : 'none';\n",
              "\n",
              "        async function convertToInteractive(key) {\n",
              "          const element = document.querySelector('#df-308c0a4e-30e9-473e-8d54-d723d8d6eaea');\n",
              "          const dataTable =\n",
              "            await google.colab.kernel.invokeFunction('convertToInteractive',\n",
              "                                                     [key], {});\n",
              "          if (!dataTable) return;\n",
              "\n",
              "          const docLinkHtml = 'Like what you see? Visit the ' +\n",
              "            '<a target=\"_blank\" href=https://colab.research.google.com/notebooks/data_table.ipynb>data table notebook</a>'\n",
              "            + ' to learn more about interactive tables.';\n",
              "          element.innerHTML = '';\n",
              "          dataTable['output_type'] = 'display_data';\n",
              "          await google.colab.output.renderOutput(dataTable, element);\n",
              "          const docLink = document.createElement('div');\n",
              "          docLink.innerHTML = docLinkHtml;\n",
              "          element.appendChild(docLink);\n",
              "        }\n",
              "      </script>\n",
              "    </div>\n",
              "  </div>\n",
              "  "
            ],
            "text/plain": [
              "           sepal.length                                              \\\n",
              "                  count   mean       std  min    25%  50%  75%  max   \n",
              "variety                                                               \n",
              "Setosa             50.0  5.006  0.352490  4.3  4.800  5.0  5.2  5.8   \n",
              "Versicolor         50.0  5.936  0.516171  4.9  5.600  5.9  6.3  7.0   \n",
              "Virginica          50.0  6.588  0.635880  4.9  6.225  6.5  6.9  7.9   \n",
              "\n",
              "           sepal.width         ... petal.length      petal.width         \\\n",
              "                 count   mean  ...          75%  max       count   mean   \n",
              "variety                        ...                                        \n",
              "Setosa            50.0  3.428  ...        1.575  1.9        50.0  0.246   \n",
              "Versicolor        50.0  2.770  ...        4.600  5.1        50.0  1.326   \n",
              "Virginica         50.0  2.974  ...        5.875  6.9        50.0  2.026   \n",
              "\n",
              "                                               \n",
              "                 std  min  25%  50%  75%  max  \n",
              "variety                                        \n",
              "Setosa      0.105386  0.1  0.2  0.2  0.3  0.6  \n",
              "Versicolor  0.197753  1.0  1.2  1.3  1.5  1.8  \n",
              "Virginica   0.274650  1.4  1.8  2.0  2.3  2.5  \n",
              "\n",
              "[3 rows x 32 columns]"
            ]
          },
          "execution_count": 6,
          "metadata": {},
          "output_type": "execute_result"
        }
      ],
      "source": [
        "df.groupby('variety').describe()"
      ]
    },
    {
      "cell_type": "code",
      "execution_count": 7,
      "metadata": {
        "colab": {
          "base_uri": "https://localhost:8080/",
          "height": 175
        },
        "id": "Fq1kLyuGZSz7",
        "outputId": "ac36d7bb-7325-4674-f9f5-9f1c2fd1c481"
      },
      "outputs": [
        {
          "data": {
            "text/html": [
              "\n",
              "  <div id=\"df-41e320ad-8009-4c27-bdda-72902832429c\">\n",
              "    <div class=\"colab-df-container\">\n",
              "      <div>\n",
              "<style scoped>\n",
              "    .dataframe tbody tr th:only-of-type {\n",
              "        vertical-align: middle;\n",
              "    }\n",
              "\n",
              "    .dataframe tbody tr th {\n",
              "        vertical-align: top;\n",
              "    }\n",
              "\n",
              "    .dataframe thead th {\n",
              "        text-align: right;\n",
              "    }\n",
              "</style>\n",
              "<table border=\"1\" class=\"dataframe\">\n",
              "  <thead>\n",
              "    <tr style=\"text-align: right;\">\n",
              "      <th></th>\n",
              "      <th>sepal.length</th>\n",
              "      <th>sepal.width</th>\n",
              "      <th>petal.length</th>\n",
              "      <th>petal.width</th>\n",
              "    </tr>\n",
              "    <tr>\n",
              "      <th>variety</th>\n",
              "      <th></th>\n",
              "      <th></th>\n",
              "      <th></th>\n",
              "      <th></th>\n",
              "    </tr>\n",
              "  </thead>\n",
              "  <tbody>\n",
              "    <tr>\n",
              "      <th>Setosa</th>\n",
              "      <td>5.006</td>\n",
              "      <td>3.428</td>\n",
              "      <td>1.462</td>\n",
              "      <td>0.246</td>\n",
              "    </tr>\n",
              "    <tr>\n",
              "      <th>Versicolor</th>\n",
              "      <td>5.936</td>\n",
              "      <td>2.770</td>\n",
              "      <td>4.260</td>\n",
              "      <td>1.326</td>\n",
              "    </tr>\n",
              "    <tr>\n",
              "      <th>Virginica</th>\n",
              "      <td>6.588</td>\n",
              "      <td>2.974</td>\n",
              "      <td>5.552</td>\n",
              "      <td>2.026</td>\n",
              "    </tr>\n",
              "  </tbody>\n",
              "</table>\n",
              "</div>\n",
              "      <button class=\"colab-df-convert\" onclick=\"convertToInteractive('df-41e320ad-8009-4c27-bdda-72902832429c')\"\n",
              "              title=\"Convert this dataframe to an interactive table.\"\n",
              "              style=\"display:none;\">\n",
              "        \n",
              "  <svg xmlns=\"http://www.w3.org/2000/svg\" height=\"24px\"viewBox=\"0 0 24 24\"\n",
              "       width=\"24px\">\n",
              "    <path d=\"M0 0h24v24H0V0z\" fill=\"none\"/>\n",
              "    <path d=\"M18.56 5.44l.94 2.06.94-2.06 2.06-.94-2.06-.94-.94-2.06-.94 2.06-2.06.94zm-11 1L8.5 8.5l.94-2.06 2.06-.94-2.06-.94L8.5 2.5l-.94 2.06-2.06.94zm10 10l.94 2.06.94-2.06 2.06-.94-2.06-.94-.94-2.06-.94 2.06-2.06.94z\"/><path d=\"M17.41 7.96l-1.37-1.37c-.4-.4-.92-.59-1.43-.59-.52 0-1.04.2-1.43.59L10.3 9.45l-7.72 7.72c-.78.78-.78 2.05 0 2.83L4 21.41c.39.39.9.59 1.41.59.51 0 1.02-.2 1.41-.59l7.78-7.78 2.81-2.81c.8-.78.8-2.07 0-2.86zM5.41 20L4 18.59l7.72-7.72 1.47 1.35L5.41 20z\"/>\n",
              "  </svg>\n",
              "      </button>\n",
              "      \n",
              "  <style>\n",
              "    .colab-df-container {\n",
              "      display:flex;\n",
              "      flex-wrap:wrap;\n",
              "      gap: 12px;\n",
              "    }\n",
              "\n",
              "    .colab-df-convert {\n",
              "      background-color: #E8F0FE;\n",
              "      border: none;\n",
              "      border-radius: 50%;\n",
              "      cursor: pointer;\n",
              "      display: none;\n",
              "      fill: #1967D2;\n",
              "      height: 32px;\n",
              "      padding: 0 0 0 0;\n",
              "      width: 32px;\n",
              "    }\n",
              "\n",
              "    .colab-df-convert:hover {\n",
              "      background-color: #E2EBFA;\n",
              "      box-shadow: 0px 1px 2px rgba(60, 64, 67, 0.3), 0px 1px 3px 1px rgba(60, 64, 67, 0.15);\n",
              "      fill: #174EA6;\n",
              "    }\n",
              "\n",
              "    [theme=dark] .colab-df-convert {\n",
              "      background-color: #3B4455;\n",
              "      fill: #D2E3FC;\n",
              "    }\n",
              "\n",
              "    [theme=dark] .colab-df-convert:hover {\n",
              "      background-color: #434B5C;\n",
              "      box-shadow: 0px 1px 3px 1px rgba(0, 0, 0, 0.15);\n",
              "      filter: drop-shadow(0px 1px 2px rgba(0, 0, 0, 0.3));\n",
              "      fill: #FFFFFF;\n",
              "    }\n",
              "  </style>\n",
              "\n",
              "      <script>\n",
              "        const buttonEl =\n",
              "          document.querySelector('#df-41e320ad-8009-4c27-bdda-72902832429c button.colab-df-convert');\n",
              "        buttonEl.style.display =\n",
              "          google.colab.kernel.accessAllowed ? 'block' : 'none';\n",
              "\n",
              "        async function convertToInteractive(key) {\n",
              "          const element = document.querySelector('#df-41e320ad-8009-4c27-bdda-72902832429c');\n",
              "          const dataTable =\n",
              "            await google.colab.kernel.invokeFunction('convertToInteractive',\n",
              "                                                     [key], {});\n",
              "          if (!dataTable) return;\n",
              "\n",
              "          const docLinkHtml = 'Like what you see? Visit the ' +\n",
              "            '<a target=\"_blank\" href=https://colab.research.google.com/notebooks/data_table.ipynb>data table notebook</a>'\n",
              "            + ' to learn more about interactive tables.';\n",
              "          element.innerHTML = '';\n",
              "          dataTable['output_type'] = 'display_data';\n",
              "          await google.colab.output.renderOutput(dataTable, element);\n",
              "          const docLink = document.createElement('div');\n",
              "          docLink.innerHTML = docLinkHtml;\n",
              "          element.appendChild(docLink);\n",
              "        }\n",
              "      </script>\n",
              "    </div>\n",
              "  </div>\n",
              "  "
            ],
            "text/plain": [
              "            sepal.length  sepal.width  petal.length  petal.width\n",
              "variety                                                         \n",
              "Setosa             5.006        3.428         1.462        0.246\n",
              "Versicolor         5.936        2.770         4.260        1.326\n",
              "Virginica          6.588        2.974         5.552        2.026"
            ]
          },
          "execution_count": 7,
          "metadata": {},
          "output_type": "execute_result"
        }
      ],
      "source": [
        "df.groupby('variety').mean()"
      ]
    },
    {
      "cell_type": "markdown",
      "metadata": {
        "id": "TS_T_hVzZvHN"
      },
      "source": [
        "From observing the above variety-wise mean values of each of the columns and how they differ from one another, we can say that these features can be used to determine the target variety.\n",
        "\n",
        "This can be given more support by visualising the spread of these features based on the target classes. \n",
        "\n"
      ]
    },
    {
      "cell_type": "code",
      "execution_count": 8,
      "metadata": {
        "colab": {
          "base_uri": "https://localhost:8080/",
          "height": 1000
        },
        "id": "WBlO1NgrZof-",
        "outputId": "3bbd0735-6d2e-4877-a865-6f8149619730"
      },
      "outputs": [
        {
          "data": {
            "image/png": "[encoded data removed]",
            "text/plain": [
              "<Figure size 432x288 with 1 Axes>"
            ]
          },
          "metadata": {
            "needs_background": "light"
          },
          "output_type": "display_data"
        },
        {
          "data": {
            "image/png": "[encoded data removed]",
            "text/plain": [
              "<Figure size 432x288 with 1 Axes>"
            ]
          },
          "metadata": {
            "needs_background": "light"
          },
          "output_type": "display_data"
        },
        {
          "data": {
            "image/png": "[encoded data removed]",
            "text/plain": [
              "<Figure size 432x288 with 1 Axes>"
            ]
          },
          "metadata": {
            "needs_background": "light"
          },
          "output_type": "display_data"
        },
        {
          "data": {
            "image/png": "[encoded data removed]",
            "text/plain": [
              "<Figure size 432x288 with 1 Axes>"
            ]
          },
          "metadata": {
            "needs_background": "light"
          },
          "output_type": "display_data"
        }
      ],
      "source": [
        "for feat in [col for col in df.columns if col != 'variety']:\n",
        "  setosa = list(df[df['variety'] == 'Setosa'][feat])\n",
        "  versicolor = list(df[df['variety'] == 'Versicolor'][feat])\n",
        "  virginica = list(df[df['variety'] == 'Virginica'][feat])\n",
        "  xmin = min(min(setosa), min(versicolor), min(virginica))\n",
        "  xmax = max(max(setosa), max(versicolor), max(virginica))\n",
        "  width = (xmax - xmin) / 30\n",
        "  plt.hist(setosa, color='r', density=False, bins=np.arange(xmin, xmax, width))\n",
        "  plt.hist(versicolor, color='g', density=False, bins=np.arange(xmin, xmax, width))\n",
        "  plt.hist(virginica, color='b', density=False, bins=np.arange(xmin, xmax, width))\n",
        "  plt.legend(['Setosa', 'Versicolor', 'Virginica'])\n",
        "  plt.title(f\"Histograms for {feat} based on the variety\")\n",
        "  plt.show()"
      ]
    },
    {
      "cell_type": "markdown",
      "metadata": {
        "id": "cem2SuCRc_UT"
      },
      "source": [
        "From these overlaid histograms, it is clear that the features, especially the **petal lengths & widths** will be contributing factors to the target class prediction. "
      ]
    },
    {
      "cell_type": "code",
      "execution_count": 9,
      "metadata": {
        "colab": {
          "base_uri": "https://localhost:8080/",
          "height": 175
        },
        "id": "Qub6LcGnbaBr",
        "outputId": "afd6cab1-7c9f-4574-910b-5ede77508589"
      },
      "outputs": [
        {
          "data": {
            "text/html": [
              "\n",
              "  <div id=\"df-c28baa81-cf87-4064-bd30-269be79074cf\">\n",
              "    <div class=\"colab-df-container\">\n",
              "      <div>\n",
              "<style scoped>\n",
              "    .dataframe tbody tr th:only-of-type {\n",
              "        vertical-align: middle;\n",
              "    }\n",
              "\n",
              "    .dataframe tbody tr th {\n",
              "        vertical-align: top;\n",
              "    }\n",
              "\n",
              "    .dataframe thead th {\n",
              "        text-align: right;\n",
              "    }\n",
              "</style>\n",
              "<table border=\"1\" class=\"dataframe\">\n",
              "  <thead>\n",
              "    <tr style=\"text-align: right;\">\n",
              "      <th></th>\n",
              "      <th>sepal.length</th>\n",
              "      <th>sepal.width</th>\n",
              "      <th>petal.length</th>\n",
              "      <th>petal.width</th>\n",
              "    </tr>\n",
              "  </thead>\n",
              "  <tbody>\n",
              "    <tr>\n",
              "      <th>sepal.length</th>\n",
              "      <td>1.000000</td>\n",
              "      <td>-0.117570</td>\n",
              "      <td>0.871754</td>\n",
              "      <td>0.817941</td>\n",
              "    </tr>\n",
              "    <tr>\n",
              "      <th>sepal.width</th>\n",
              "      <td>-0.117570</td>\n",
              "      <td>1.000000</td>\n",
              "      <td>-0.428440</td>\n",
              "      <td>-0.366126</td>\n",
              "    </tr>\n",
              "    <tr>\n",
              "      <th>petal.length</th>\n",
              "      <td>0.871754</td>\n",
              "      <td>-0.428440</td>\n",
              "      <td>1.000000</td>\n",
              "      <td>0.962865</td>\n",
              "    </tr>\n",
              "    <tr>\n",
              "      <th>petal.width</th>\n",
              "      <td>0.817941</td>\n",
              "      <td>-0.366126</td>\n",
              "      <td>0.962865</td>\n",
              "      <td>1.000000</td>\n",
              "    </tr>\n",
              "  </tbody>\n",
              "</table>\n",
              "</div>\n",
              "      <button class=\"colab-df-convert\" onclick=\"convertToInteractive('df-c28baa81-cf87-4064-bd30-269be79074cf')\"\n",
              "              title=\"Convert this dataframe to an interactive table.\"\n",
              "              style=\"display:none;\">\n",
              "        \n",
              "  <svg xmlns=\"http://www.w3.org/2000/svg\" height=\"24px\"viewBox=\"0 0 24 24\"\n",
              "       width=\"24px\">\n",
              "    <path d=\"M0 0h24v24H0V0z\" fill=\"none\"/>\n",
              "    <path d=\"M18.56 5.44l.94 2.06.94-2.06 2.06-.94-2.06-.94-.94-2.06-.94 2.06-2.06.94zm-11 1L8.5 8.5l.94-2.06 2.06-.94-2.06-.94L8.5 2.5l-.94 2.06-2.06.94zm10 10l.94 2.06.94-2.06 2.06-.94-2.06-.94-.94-2.06-.94 2.06-2.06.94z\"/><path d=\"M17.41 7.96l-1.37-1.37c-.4-.4-.92-.59-1.43-.59-.52 0-1.04.2-1.43.59L10.3 9.45l-7.72 7.72c-.78.78-.78 2.05 0 2.83L4 21.41c.39.39.9.59 1.41.59.51 0 1.02-.2 1.41-.59l7.78-7.78 2.81-2.81c.8-.78.8-2.07 0-2.86zM5.41 20L4 18.59l7.72-7.72 1.47 1.35L5.41 20z\"/>\n",
              "  </svg>\n",
              "      </button>\n",
              "      \n",
              "  <style>\n",
              "    .colab-df-container {\n",
              "      display:flex;\n",
              "      flex-wrap:wrap;\n",
              "      gap: 12px;\n",
              "    }\n",
              "\n",
              "    .colab-df-convert {\n",
              "      background-color: #E8F0FE;\n",
              "      border: none;\n",
              "      border-radius: 50%;\n",
              "      cursor: pointer;\n",
              "      display: none;\n",
              "      fill: #1967D2;\n",
              "      height: 32px;\n",
              "      padding: 0 0 0 0;\n",
              "      width: 32px;\n",
              "    }\n",
              "\n",
              "    .colab-df-convert:hover {\n",
              "      background-color: #E2EBFA;\n",
              "      box-shadow: 0px 1px 2px rgba(60, 64, 67, 0.3), 0px 1px 3px 1px rgba(60, 64, 67, 0.15);\n",
              "      fill: #174EA6;\n",
              "    }\n",
              "\n",
              "    [theme=dark] .colab-df-convert {\n",
              "      background-color: #3B4455;\n",
              "      fill: #D2E3FC;\n",
              "    }\n",
              "\n",
              "    [theme=dark] .colab-df-convert:hover {\n",
              "      background-color: #434B5C;\n",
              "      box-shadow: 0px 1px 3px 1px rgba(0, 0, 0, 0.15);\n",
              "      filter: drop-shadow(0px 1px 2px rgba(0, 0, 0, 0.3));\n",
              "      fill: #FFFFFF;\n",
              "    }\n",
              "  </style>\n",
              "\n",
              "      <script>\n",
              "        const buttonEl =\n",
              "          document.querySelector('#df-c28baa81-cf87-4064-bd30-269be79074cf button.colab-df-convert');\n",
              "        buttonEl.style.display =\n",
              "          google.colab.kernel.accessAllowed ? 'block' : 'none';\n",
              "\n",
              "        async function convertToInteractive(key) {\n",
              "          const element = document.querySelector('#df-c28baa81-cf87-4064-bd30-269be79074cf');\n",
              "          const dataTable =\n",
              "            await google.colab.kernel.invokeFunction('convertToInteractive',\n",
              "                                                     [key], {});\n",
              "          if (!dataTable) return;\n",
              "\n",
              "          const docLinkHtml = 'Like what you see? Visit the ' +\n",
              "            '<a target=\"_blank\" href=https://colab.research.google.com/notebooks/data_table.ipynb>data table notebook</a>'\n",
              "            + ' to learn more about interactive tables.';\n",
              "          element.innerHTML = '';\n",
              "          dataTable['output_type'] = 'display_data';\n",
              "          await google.colab.output.renderOutput(dataTable, element);\n",
              "          const docLink = document.createElement('div');\n",
              "          docLink.innerHTML = docLinkHtml;\n",
              "          element.appendChild(docLink);\n",
              "        }\n",
              "      </script>\n",
              "    </div>\n",
              "  </div>\n",
              "  "
            ],
            "text/plain": [
              "              sepal.length  sepal.width  petal.length  petal.width\n",
              "sepal.length      1.000000    -0.117570      0.871754     0.817941\n",
              "sepal.width      -0.117570     1.000000     -0.428440    -0.366126\n",
              "petal.length      0.871754    -0.428440      1.000000     0.962865\n",
              "petal.width       0.817941    -0.366126      0.962865     1.000000"
            ]
          },
          "execution_count": 9,
          "metadata": {},
          "output_type": "execute_result"
        }
      ],
      "source": [
        "df.corr()"
      ]
    },
    {
      "cell_type": "code",
      "execution_count": 10,
      "metadata": {
        "colab": {
          "base_uri": "https://localhost:8080/",
          "height": 286
        },
        "id": "dLFCDudjdy1v",
        "outputId": "e215f709-eea7-4c04-8424-61650f1c8093"
      },
      "outputs": [
        {
          "data": {
            "text/plain": [
              "<matplotlib.axes._subplots.AxesSubplot at 0x7fceb6f14dd0>"
            ]
          },
          "execution_count": 10,
          "metadata": {},
          "output_type": "execute_result"
        },
        {
          "data": {
            "image/png": "[encoded data removed]",
            "text/plain": [
              "<Figure size 432x288 with 2 Axes>"
            ]
          },
          "metadata": {
            "needs_background": "light"
          },
          "output_type": "display_data"
        }
      ],
      "source": [
        "sns.heatmap(df.corr(), annot=True)"
      ]
    },
    {
      "cell_type": "markdown",
      "metadata": {
        "id": "-s4KEgFfeIC7"
      },
      "source": [
        "It seems like the following feature pairs are highly correlated: \n",
        "\n",
        "*   sepal length & petal length\n",
        "*   sepal length & petal width\n",
        "*   petal length & petal width\n",
        "\n",
        "\n",
        "\n"
      ]
    },
    {
      "cell_type": "markdown",
      "metadata": {
        "id": "_VCoPaiefgFC"
      },
      "source": [
        "#### Splitting and preparing data for modeling"
      ]
    },
    {
      "cell_type": "code",
      "execution_count": 11,
      "metadata": {
        "colab": {
          "base_uri": "https://localhost:8080/"
        },
        "id": "mkQFhESad1-Z",
        "outputId": "a81f014c-7e8f-416b-9d97-6e833b97dbed"
      },
      "outputs": [
        {
          "data": {
            "text/plain": [
              "0    50\n",
              "1    50\n",
              "2    50\n",
              "Name: variety, dtype: int64"
            ]
          },
          "execution_count": 11,
          "metadata": {},
          "output_type": "execute_result"
        }
      ],
      "source": [
        "X = df.drop('variety', axis=1)\n",
        "y = df['variety'].map({'Setosa': 0, 'Versicolor': 1,  'Virginica': 2}) # converting the target class into numerical type\n",
        "y.value_counts()"
      ]
    },
    {
      "cell_type": "code",
      "execution_count": 12,
      "metadata": {
        "colab": {
          "base_uri": "https://localhost:8080/"
        },
        "id": "MRCepzxx6zf_",
        "outputId": "92a9656d-bbed-44f2-97fa-f144cd5de739"
      },
      "outputs": [
        {
          "name": "stdout",
          "output_type": "stream",
          "text": [
            "Value counts after 60-20-20 split\n",
            "Train\n",
            "1    30\n",
            "2    30\n",
            "0    30\n",
            "Name: variety, dtype: int64\n",
            "Test\n",
            "2    10\n",
            "0    10\n",
            "1    10\n",
            "Name: variety, dtype: int64\n",
            "Validation\n",
            "1    10\n",
            "2    10\n",
            "0    10\n",
            "Name: variety, dtype: int64\n",
            "\n",
            "Value counts after 80-10-10 split\n",
            "Train\n",
            "1    40\n",
            "2    40\n",
            "0    40\n",
            "Name: variety, dtype: int64\n",
            "Test\n",
            "1    5\n",
            "0    5\n",
            "2    5\n",
            "Name: variety, dtype: int64\n",
            "Validation\n",
            "0    5\n",
            "2    5\n",
            "1    5\n",
            "Name: variety, dtype: int64\n"
          ]
        }
      ],
      "source": [
        "# 60-20-20 split\n",
        "X_train_60, X_test_60, y_train_60, y_test_60 = train_test_split(X, y, train_size=0.6, random_state=17, stratify=y)\n",
        "X_test_60, X_val_60, y_test_60, y_val_60 = train_test_split(X_test_60, y_test_60, test_size=0.5, random_state=17, stratify=y_test_60)\n",
        "\n",
        "print(\"Value counts after 60-20-20 split\")\n",
        "print(\"Train\")\n",
        "print(y_train_60.value_counts())\n",
        "print(\"Test\")\n",
        "print(y_test_60.value_counts())\n",
        "print(\"Validation\")\n",
        "print(y_val_60.value_counts())\n",
        "\n",
        "print()\n",
        "\n",
        "# 80-10-10 split\n",
        "X_train_80, X_test_80, y_train_80, y_test_80 = train_test_split(X, y, train_size=0.8, random_state=17, stratify=y)\n",
        "X_test_80, X_val_80, y_test_80, y_val_80 = train_test_split(X_test_80, y_test_80, test_size=0.5, random_state=17, stratify=y_test_80)\n",
        "\n",
        "print(\"Value counts after 80-10-10 split\")\n",
        "print(\"Train\")\n",
        "print(y_train_80.value_counts())\n",
        "print(\"Test\")\n",
        "print(y_test_80.value_counts())\n",
        "print(\"Validation\")\n",
        "print(y_val_80.value_counts())"
      ]
    },
    {
      "cell_type": "markdown",
      "metadata": {
        "id": "55V5dYPsVI7P"
      },
      "source": [
        "Since the argument *stratify = label_column* was passed within the *train_test_split* functions, the resulting split data also contains the same ratio of classes (1:1:1)"
      ]
    },
    {
      "cell_type": "code",
      "execution_count": 13,
      "metadata": {
        "id": "5Z1p5NzCooxB"
      },
      "outputs": [],
      "source": [
        "# funtion to print the results from a cross validation\n",
        "def print_cv_results(results):\n",
        "    means = results.cv_results_['mean_test_score']\n",
        "    stds = results.cv_results_['std_test_score']\n",
        "    for mean, std, params in zip(means, stds, results.cv_results_['params']):\n",
        "        print(f'{round(mean, 3)} (+/-{round(std * 2, 3)}) with {params}')\n",
        "    print(f'\\nBEST PARAMS: {results.best_params_}\\n')"
      ]
    },
    {
      "cell_type": "markdown",
      "metadata": {
        "id": "0BsmG-ShrNL3"
      },
      "source": [
        "#### SVM"
      ]
    },
    {
      "cell_type": "code",
      "execution_count": 14,
      "metadata": {
        "id": "gw-gyCOIrUW9"
      },
      "outputs": [],
      "source": [
        "from sklearn.svm import SVC"
      ]
    },
    {
      "cell_type": "code",
      "execution_count": 15,
      "metadata": {
        "colab": {
          "base_uri": "https://localhost:8080/"
        },
        "id": "O3iOapoXo9lB",
        "outputId": "1c15243c-b971-43c3-ae78-1d64ea81ff43"
      },
      "outputs": [
        {
          "name": "stdout",
          "output_type": "stream",
          "text": [
            "\n",
            "Split ratio: 60:20:20\n",
            "0.956 (+/-0.109) with {'C': 0.1, 'kernel': 'linear'}\n",
            "0.922 (+/-0.166) with {'C': 0.1, 'kernel': 'rbf'}\n",
            "0.978 (+/-0.054) with {'C': 1, 'kernel': 'linear'}\n",
            "0.944 (+/-0.141) with {'C': 1, 'kernel': 'rbf'}\n",
            "0.967 (+/-0.054) with {'C': 10, 'kernel': 'linear'}\n",
            "0.978 (+/-0.054) with {'C': 10, 'kernel': 'rbf'}\n",
            "\n",
            "BEST PARAMS: {'C': 1, 'kernel': 'linear'}\n",
            "\n",
            "\n",
            "Split ratio: 80:10:10\n",
            "0.942 (+/-0.085) with {'C': 0.1, 'kernel': 'linear'}\n",
            "0.925 (+/-0.111) with {'C': 0.1, 'kernel': 'rbf'}\n",
            "0.975 (+/-0.067) with {'C': 1, 'kernel': 'linear'}\n",
            "0.95 (+/-0.062) with {'C': 1, 'kernel': 'rbf'}\n",
            "0.967 (+/-0.062) with {'C': 10, 'kernel': 'linear'}\n",
            "0.967 (+/-0.097) with {'C': 10, 'kernel': 'rbf'}\n",
            "\n",
            "BEST PARAMS: {'C': 1, 'kernel': 'linear'}\n",
            "\n"
          ]
        }
      ],
      "source": [
        "for X_train, y_train, train_size in zip([X_train_60, X_train_80], [y_train_60, y_train_80], [60, 80]):\n",
        "  \n",
        "  print(f\"\\nSplit ratio: {train_size}:{int((100-train_size)/2)}:{int((100-train_size)/2)}\")\n",
        "\n",
        "  svc = SVC()\n",
        "  parameters = {\n",
        "      'kernel': ['linear', 'rbf'],\n",
        "      'C': [0.1, 1, 10]\n",
        "  }\n",
        "\n",
        "  cv = GridSearchCV(svc, parameters, cv=5)\n",
        "  cv.fit(X_train, y_train.values.ravel())\n",
        "\n",
        "  print_cv_results(cv)\n",
        "\n",
        "  joblib.dump(cv.best_estimator_, f'SVM_model_{train_size}.pkl')"
      ]
    },
    {
      "cell_type": "markdown",
      "metadata": {
        "id": "dVRqVWW4uohp"
      },
      "source": [
        "#### RF"
      ]
    },
    {
      "cell_type": "code",
      "execution_count": 16,
      "metadata": {
        "id": "qGdpWs7nsW3A"
      },
      "outputs": [],
      "source": [
        "from sklearn.ensemble import RandomForestClassifier"
      ]
    },
    {
      "cell_type": "code",
      "execution_count": 17,
      "metadata": {
        "colab": {
          "base_uri": "https://localhost:8080/"
        },
        "id": "-CrZA_eLuvAT",
        "outputId": "5273e1fb-fc0e-4e0e-c83a-ee7ff54c1277"
      },
      "outputs": [
        {
          "name": "stdout",
          "output_type": "stream",
          "text": [
            "\n",
            "Split ratio: 60:20:20\n",
            "0.967 (+/-0.089) with {'max_depth': 2, 'n_estimators': 5}\n",
            "0.956 (+/-0.083) with {'max_depth': 2, 'n_estimators': 50}\n",
            "0.944 (+/-0.099) with {'max_depth': 2, 'n_estimators': 250}\n",
            "0.956 (+/-0.083) with {'max_depth': 4, 'n_estimators': 5}\n",
            "0.944 (+/-0.099) with {'max_depth': 4, 'n_estimators': 50}\n",
            "0.944 (+/-0.099) with {'max_depth': 4, 'n_estimators': 250}\n",
            "0.956 (+/-0.083) with {'max_depth': 8, 'n_estimators': 5}\n",
            "0.944 (+/-0.099) with {'max_depth': 8, 'n_estimators': 50}\n",
            "0.944 (+/-0.099) with {'max_depth': 8, 'n_estimators': 250}\n",
            "0.944 (+/-0.122) with {'max_depth': 16, 'n_estimators': 5}\n",
            "0.944 (+/-0.099) with {'max_depth': 16, 'n_estimators': 50}\n",
            "0.944 (+/-0.099) with {'max_depth': 16, 'n_estimators': 250}\n",
            "0.922 (+/-0.089) with {'max_depth': 32, 'n_estimators': 5}\n",
            "0.956 (+/-0.083) with {'max_depth': 32, 'n_estimators': 50}\n",
            "0.944 (+/-0.099) with {'max_depth': 32, 'n_estimators': 250}\n",
            "0.944 (+/-0.099) with {'max_depth': None, 'n_estimators': 5}\n",
            "0.944 (+/-0.099) with {'max_depth': None, 'n_estimators': 50}\n",
            "0.944 (+/-0.099) with {'max_depth': None, 'n_estimators': 250}\n",
            "\n",
            "BEST PARAMS: {'max_depth': 2, 'n_estimators': 5}\n",
            "\n",
            "\n",
            "Split ratio: 80:10:10\n",
            "0.942 (+/-0.085) with {'max_depth': 2, 'n_estimators': 5}\n",
            "0.942 (+/-0.113) with {'max_depth': 2, 'n_estimators': 50}\n",
            "0.942 (+/-0.113) with {'max_depth': 2, 'n_estimators': 250}\n",
            "0.958 (+/-0.053) with {'max_depth': 4, 'n_estimators': 5}\n",
            "0.95 (+/-0.122) with {'max_depth': 4, 'n_estimators': 50}\n",
            "0.958 (+/-0.091) with {'max_depth': 4, 'n_estimators': 250}\n",
            "0.95 (+/-0.122) with {'max_depth': 8, 'n_estimators': 5}\n",
            "0.942 (+/-0.113) with {'max_depth': 8, 'n_estimators': 50}\n",
            "0.958 (+/-0.091) with {'max_depth': 8, 'n_estimators': 250}\n",
            "0.958 (+/-0.129) with {'max_depth': 16, 'n_estimators': 5}\n",
            "0.958 (+/-0.091) with {'max_depth': 16, 'n_estimators': 50}\n",
            "0.958 (+/-0.091) with {'max_depth': 16, 'n_estimators': 250}\n",
            "0.95 (+/-0.122) with {'max_depth': 32, 'n_estimators': 5}\n",
            "0.942 (+/-0.113) with {'max_depth': 32, 'n_estimators': 50}\n",
            "0.95 (+/-0.122) with {'max_depth': 32, 'n_estimators': 250}\n",
            "0.95 (+/-0.097) with {'max_depth': None, 'n_estimators': 5}\n",
            "0.958 (+/-0.091) with {'max_depth': None, 'n_estimators': 50}\n",
            "0.958 (+/-0.091) with {'max_depth': None, 'n_estimators': 250}\n",
            "\n",
            "BEST PARAMS: {'max_depth': 4, 'n_estimators': 5}\n",
            "\n"
          ]
        }
      ],
      "source": [
        "for X_train, y_train, train_size in zip([X_train_60, X_train_80], [y_train_60, y_train_80], [60, 80]):\n",
        "  \n",
        "  print(f\"\\nSplit ratio: {train_size}:{int((100-train_size)/2)}:{int((100-train_size)/2)}\")\n",
        "\n",
        "  rf = RandomForestClassifier()\n",
        "  parameters = {\n",
        "      'n_estimators': [5, 50, 250],\n",
        "      'max_depth': [2, 4, 8, 16, 32, None]\n",
        "  }\n",
        "\n",
        "  cv = GridSearchCV(rf, parameters, cv=5)\n",
        "  cv.fit(X_train, y_train.values.ravel())\n",
        "\n",
        "  print_cv_results(cv)\n",
        "\n",
        "  joblib.dump(cv.best_estimator_, f'RF_model_{train_size}.pkl')"
      ]
    },
    {
      "cell_type": "markdown",
      "metadata": {
        "id": "e62HlgaWvP1P"
      },
      "source": [
        "#### GB"
      ]
    },
    {
      "cell_type": "code",
      "execution_count": 18,
      "metadata": {
        "id": "-QS0zmCnu8Nq"
      },
      "outputs": [],
      "source": [
        "from sklearn.ensemble import GradientBoostingClassifier"
      ]
    },
    {
      "cell_type": "code",
      "execution_count": 19,
      "metadata": {
        "colab": {
          "base_uri": "https://localhost:8080/"
        },
        "id": "2mCnUmVRvUGh",
        "outputId": "163d4693-30b0-4b74-9b05-3e24983a4feb"
      },
      "outputs": [
        {
          "name": "stdout",
          "output_type": "stream",
          "text": [
            "\n",
            "Split ratio: 60:20:20\n",
            "0.956 (+/-0.083) with {'learning_rate': 0.01, 'max_depth': 1, 'n_estimators': 5}\n",
            "0.956 (+/-0.083) with {'learning_rate': 0.01, 'max_depth': 1, 'n_estimators': 50}\n",
            "0.956 (+/-0.083) with {'learning_rate': 0.01, 'max_depth': 1, 'n_estimators': 250}\n",
            "0.956 (+/-0.083) with {'learning_rate': 0.01, 'max_depth': 1, 'n_estimators': 500}\n",
            "0.944 (+/-0.099) with {'learning_rate': 0.01, 'max_depth': 3, 'n_estimators': 5}\n",
            "0.944 (+/-0.099) with {'learning_rate': 0.01, 'max_depth': 3, 'n_estimators': 50}\n",
            "0.944 (+/-0.099) with {'learning_rate': 0.01, 'max_depth': 3, 'n_estimators': 250}\n",
            "0.944 (+/-0.099) with {'learning_rate': 0.01, 'max_depth': 3, 'n_estimators': 500}\n",
            "0.944 (+/-0.099) with {'learning_rate': 0.01, 'max_depth': 5, 'n_estimators': 5}\n",
            "0.944 (+/-0.099) with {'learning_rate': 0.01, 'max_depth': 5, 'n_estimators': 50}\n",
            "0.944 (+/-0.099) with {'learning_rate': 0.01, 'max_depth': 5, 'n_estimators': 250}\n",
            "0.944 (+/-0.099) with {'learning_rate': 0.01, 'max_depth': 5, 'n_estimators': 500}\n",
            "0.944 (+/-0.099) with {'learning_rate': 0.01, 'max_depth': 7, 'n_estimators': 5}\n",
            "0.944 (+/-0.099) with {'learning_rate': 0.01, 'max_depth': 7, 'n_estimators': 50}\n",
            "0.944 (+/-0.099) with {'learning_rate': 0.01, 'max_depth': 7, 'n_estimators': 250}\n",
            "0.944 (+/-0.099) with {'learning_rate': 0.01, 'max_depth': 7, 'n_estimators': 500}\n",
            "0.944 (+/-0.099) with {'learning_rate': 0.01, 'max_depth': 9, 'n_estimators': 5}\n",
            "0.944 (+/-0.099) with {'learning_rate': 0.01, 'max_depth': 9, 'n_estimators': 50}\n",
            "0.944 (+/-0.099) with {'learning_rate': 0.01, 'max_depth': 9, 'n_estimators': 250}\n",
            "0.944 (+/-0.099) with {'learning_rate': 0.01, 'max_depth': 9, 'n_estimators': 500}\n",
            "0.956 (+/-0.083) with {'learning_rate': 0.1, 'max_depth': 1, 'n_estimators': 5}\n",
            "0.956 (+/-0.083) with {'learning_rate': 0.1, 'max_depth': 1, 'n_estimators': 50}\n",
            "0.944 (+/-0.099) with {'learning_rate': 0.1, 'max_depth': 1, 'n_estimators': 250}\n",
            "0.956 (+/-0.109) with {'learning_rate': 0.1, 'max_depth': 1, 'n_estimators': 500}\n",
            "0.944 (+/-0.099) with {'learning_rate': 0.1, 'max_depth': 3, 'n_estimators': 5}\n",
            "0.944 (+/-0.099) with {'learning_rate': 0.1, 'max_depth': 3, 'n_estimators': 50}\n",
            "0.944 (+/-0.099) with {'learning_rate': 0.1, 'max_depth': 3, 'n_estimators': 250}\n",
            "0.944 (+/-0.099) with {'learning_rate': 0.1, 'max_depth': 3, 'n_estimators': 500}\n",
            "0.944 (+/-0.099) with {'learning_rate': 0.1, 'max_depth': 5, 'n_estimators': 5}\n",
            "0.944 (+/-0.099) with {'learning_rate': 0.1, 'max_depth': 5, 'n_estimators': 50}\n",
            "0.944 (+/-0.099) with {'learning_rate': 0.1, 'max_depth': 5, 'n_estimators': 250}\n",
            "0.944 (+/-0.099) with {'learning_rate': 0.1, 'max_depth': 5, 'n_estimators': 500}\n",
            "0.944 (+/-0.099) with {'learning_rate': 0.1, 'max_depth': 7, 'n_estimators': 5}\n",
            "0.944 (+/-0.099) with {'learning_rate': 0.1, 'max_depth': 7, 'n_estimators': 50}\n",
            "0.944 (+/-0.099) with {'learning_rate': 0.1, 'max_depth': 7, 'n_estimators': 250}\n",
            "0.944 (+/-0.099) with {'learning_rate': 0.1, 'max_depth': 7, 'n_estimators': 500}\n",
            "0.944 (+/-0.099) with {'learning_rate': 0.1, 'max_depth': 9, 'n_estimators': 5}\n",
            "0.944 (+/-0.099) with {'learning_rate': 0.1, 'max_depth': 9, 'n_estimators': 50}\n",
            "0.944 (+/-0.099) with {'learning_rate': 0.1, 'max_depth': 9, 'n_estimators': 250}\n",
            "0.944 (+/-0.099) with {'learning_rate': 0.1, 'max_depth': 9, 'n_estimators': 500}\n",
            "0.956 (+/-0.083) with {'learning_rate': 1, 'max_depth': 1, 'n_estimators': 5}\n",
            "0.956 (+/-0.109) with {'learning_rate': 1, 'max_depth': 1, 'n_estimators': 50}\n",
            "0.956 (+/-0.109) with {'learning_rate': 1, 'max_depth': 1, 'n_estimators': 250}\n",
            "0.956 (+/-0.109) with {'learning_rate': 1, 'max_depth': 1, 'n_estimators': 500}\n",
            "0.956 (+/-0.083) with {'learning_rate': 1, 'max_depth': 3, 'n_estimators': 5}\n",
            "0.944 (+/-0.07) with {'learning_rate': 1, 'max_depth': 3, 'n_estimators': 50}\n",
            "0.944 (+/-0.07) with {'learning_rate': 1, 'max_depth': 3, 'n_estimators': 250}\n",
            "0.944 (+/-0.07) with {'learning_rate': 1, 'max_depth': 3, 'n_estimators': 500}\n",
            "0.944 (+/-0.099) with {'learning_rate': 1, 'max_depth': 5, 'n_estimators': 5}\n",
            "0.944 (+/-0.099) with {'learning_rate': 1, 'max_depth': 5, 'n_estimators': 50}\n",
            "0.944 (+/-0.099) with {'learning_rate': 1, 'max_depth': 5, 'n_estimators': 250}\n",
            "0.944 (+/-0.099) with {'learning_rate': 1, 'max_depth': 5, 'n_estimators': 500}\n",
            "0.944 (+/-0.099) with {'learning_rate': 1, 'max_depth': 7, 'n_estimators': 5}\n",
            "0.944 (+/-0.099) with {'learning_rate': 1, 'max_depth': 7, 'n_estimators': 50}\n",
            "0.944 (+/-0.099) with {'learning_rate': 1, 'max_depth': 7, 'n_estimators': 250}\n",
            "0.944 (+/-0.099) with {'learning_rate': 1, 'max_depth': 7, 'n_estimators': 500}\n",
            "0.944 (+/-0.099) with {'learning_rate': 1, 'max_depth': 9, 'n_estimators': 5}\n",
            "0.944 (+/-0.099) with {'learning_rate': 1, 'max_depth': 9, 'n_estimators': 50}\n",
            "0.944 (+/-0.099) with {'learning_rate': 1, 'max_depth': 9, 'n_estimators': 250}\n",
            "0.944 (+/-0.099) with {'learning_rate': 1, 'max_depth': 9, 'n_estimators': 500}\n",
            "0.922 (+/-0.113) with {'learning_rate': 10, 'max_depth': 1, 'n_estimators': 5}\n",
            "0.922 (+/-0.113) with {'learning_rate': 10, 'max_depth': 1, 'n_estimators': 50}\n",
            "0.922 (+/-0.113) with {'learning_rate': 10, 'max_depth': 1, 'n_estimators': 250}\n",
            "0.922 (+/-0.113) with {'learning_rate': 10, 'max_depth': 1, 'n_estimators': 500}\n",
            "0.944 (+/-0.07) with {'learning_rate': 10, 'max_depth': 3, 'n_estimators': 5}\n",
            "0.933 (+/-0.083) with {'learning_rate': 10, 'max_depth': 3, 'n_estimators': 50}\n",
            "0.933 (+/-0.083) with {'learning_rate': 10, 'max_depth': 3, 'n_estimators': 250}\n",
            "0.933 (+/-0.083) with {'learning_rate': 10, 'max_depth': 3, 'n_estimators': 500}\n",
            "0.944 (+/-0.099) with {'learning_rate': 10, 'max_depth': 5, 'n_estimators': 5}\n",
            "0.944 (+/-0.099) with {'learning_rate': 10, 'max_depth': 5, 'n_estimators': 50}\n",
            "0.944 (+/-0.099) with {'learning_rate': 10, 'max_depth': 5, 'n_estimators': 250}\n",
            "0.944 (+/-0.099) with {'learning_rate': 10, 'max_depth': 5, 'n_estimators': 500}\n",
            "0.944 (+/-0.099) with {'learning_rate': 10, 'max_depth': 7, 'n_estimators': 5}\n",
            "0.944 (+/-0.099) with {'learning_rate': 10, 'max_depth': 7, 'n_estimators': 50}\n",
            "0.944 (+/-0.099) with {'learning_rate': 10, 'max_depth': 7, 'n_estimators': 250}\n",
            "0.944 (+/-0.099) with {'learning_rate': 10, 'max_depth': 7, 'n_estimators': 500}\n",
            "0.944 (+/-0.099) with {'learning_rate': 10, 'max_depth': 9, 'n_estimators': 5}\n",
            "0.944 (+/-0.099) with {'learning_rate': 10, 'max_depth': 9, 'n_estimators': 50}\n",
            "0.944 (+/-0.099) with {'learning_rate': 10, 'max_depth': 9, 'n_estimators': 250}\n",
            "0.944 (+/-0.099) with {'learning_rate': 10, 'max_depth': 9, 'n_estimators': 500}\n",
            "0.922 (+/-0.113) with {'learning_rate': 100, 'max_depth': 1, 'n_estimators': 5}\n",
            "0.922 (+/-0.113) with {'learning_rate': 100, 'max_depth': 1, 'n_estimators': 50}\n",
            "0.844 (+/-0.247) with {'learning_rate': 100, 'max_depth': 1, 'n_estimators': 250}\n",
            "0.844 (+/-0.247) with {'learning_rate': 100, 'max_depth': 1, 'n_estimators': 500}\n",
            "0.933 (+/-0.083) with {'learning_rate': 100, 'max_depth': 3, 'n_estimators': 5}\n",
            "0.933 (+/-0.083) with {'learning_rate': 100, 'max_depth': 3, 'n_estimators': 50}\n",
            "0.933 (+/-0.083) with {'learning_rate': 100, 'max_depth': 3, 'n_estimators': 250}\n",
            "0.933 (+/-0.083) with {'learning_rate': 100, 'max_depth': 3, 'n_estimators': 500}\n",
            "0.944 (+/-0.099) with {'learning_rate': 100, 'max_depth': 5, 'n_estimators': 5}\n",
            "0.944 (+/-0.099) with {'learning_rate': 100, 'max_depth': 5, 'n_estimators': 50}\n",
            "0.944 (+/-0.099) with {'learning_rate': 100, 'max_depth': 5, 'n_estimators': 250}\n",
            "0.944 (+/-0.099) with {'learning_rate': 100, 'max_depth': 5, 'n_estimators': 500}\n",
            "0.944 (+/-0.099) with {'learning_rate': 100, 'max_depth': 7, 'n_estimators': 5}\n",
            "0.944 (+/-0.099) with {'learning_rate': 100, 'max_depth': 7, 'n_estimators': 50}\n",
            "0.944 (+/-0.099) with {'learning_rate': 100, 'max_depth': 7, 'n_estimators': 250}\n",
            "0.944 (+/-0.099) with {'learning_rate': 100, 'max_depth': 7, 'n_estimators': 500}\n",
            "0.956 (+/-0.083) with {'learning_rate': 100, 'max_depth': 9, 'n_estimators': 5}\n",
            "0.944 (+/-0.099) with {'learning_rate': 100, 'max_depth': 9, 'n_estimators': 50}\n",
            "0.944 (+/-0.099) with {'learning_rate': 100, 'max_depth': 9, 'n_estimators': 250}\n",
            "0.944 (+/-0.099) with {'learning_rate': 100, 'max_depth': 9, 'n_estimators': 500}\n",
            "\n",
            "BEST PARAMS: {'learning_rate': 0.01, 'max_depth': 1, 'n_estimators': 5}\n",
            "\n",
            "\n",
            "Split ratio: 80:10:10\n",
            "0.942 (+/-0.113) with {'learning_rate': 0.01, 'max_depth': 1, 'n_estimators': 5}\n",
            "0.942 (+/-0.113) with {'learning_rate': 0.01, 'max_depth': 1, 'n_estimators': 50}\n",
            "0.942 (+/-0.113) with {'learning_rate': 0.01, 'max_depth': 1, 'n_estimators': 250}\n",
            "0.95 (+/-0.082) with {'learning_rate': 0.01, 'max_depth': 1, 'n_estimators': 500}\n",
            "0.942 (+/-0.155) with {'learning_rate': 0.01, 'max_depth': 3, 'n_estimators': 5}\n",
            "0.933 (+/-0.155) with {'learning_rate': 0.01, 'max_depth': 3, 'n_estimators': 50}\n",
            "0.942 (+/-0.155) with {'learning_rate': 0.01, 'max_depth': 3, 'n_estimators': 250}\n",
            "0.942 (+/-0.155) with {'learning_rate': 0.01, 'max_depth': 3, 'n_estimators': 500}\n",
            "0.933 (+/-0.155) with {'learning_rate': 0.01, 'max_depth': 5, 'n_estimators': 5}\n",
            "0.942 (+/-0.155) with {'learning_rate': 0.01, 'max_depth': 5, 'n_estimators': 50}\n",
            "0.933 (+/-0.155) with {'learning_rate': 0.01, 'max_depth': 5, 'n_estimators': 250}\n",
            "0.933 (+/-0.155) with {'learning_rate': 0.01, 'max_depth': 5, 'n_estimators': 500}\n",
            "0.925 (+/-0.162) with {'learning_rate': 0.01, 'max_depth': 7, 'n_estimators': 5}\n",
            "0.942 (+/-0.155) with {'learning_rate': 0.01, 'max_depth': 7, 'n_estimators': 50}\n",
            "0.933 (+/-0.155) with {'learning_rate': 0.01, 'max_depth': 7, 'n_estimators': 250}\n",
            "0.933 (+/-0.155) with {'learning_rate': 0.01, 'max_depth': 7, 'n_estimators': 500}\n",
            "0.933 (+/-0.155) with {'learning_rate': 0.01, 'max_depth': 9, 'n_estimators': 5}\n",
            "0.942 (+/-0.155) with {'learning_rate': 0.01, 'max_depth': 9, 'n_estimators': 50}\n",
            "0.933 (+/-0.155) with {'learning_rate': 0.01, 'max_depth': 9, 'n_estimators': 250}\n",
            "0.933 (+/-0.155) with {'learning_rate': 0.01, 'max_depth': 9, 'n_estimators': 500}\n",
            "0.942 (+/-0.113) with {'learning_rate': 0.1, 'max_depth': 1, 'n_estimators': 5}\n",
            "0.95 (+/-0.082) with {'learning_rate': 0.1, 'max_depth': 1, 'n_estimators': 50}\n",
            "0.942 (+/-0.085) with {'learning_rate': 0.1, 'max_depth': 1, 'n_estimators': 250}\n",
            "0.942 (+/-0.085) with {'learning_rate': 0.1, 'max_depth': 1, 'n_estimators': 500}\n",
            "0.933 (+/-0.155) with {'learning_rate': 0.1, 'max_depth': 3, 'n_estimators': 5}\n",
            "0.942 (+/-0.155) with {'learning_rate': 0.1, 'max_depth': 3, 'n_estimators': 50}\n",
            "0.933 (+/-0.155) with {'learning_rate': 0.1, 'max_depth': 3, 'n_estimators': 250}\n",
            "0.933 (+/-0.155) with {'learning_rate': 0.1, 'max_depth': 3, 'n_estimators': 500}\n",
            "0.933 (+/-0.155) with {'learning_rate': 0.1, 'max_depth': 5, 'n_estimators': 5}\n",
            "0.933 (+/-0.155) with {'learning_rate': 0.1, 'max_depth': 5, 'n_estimators': 50}\n",
            "0.942 (+/-0.155) with {'learning_rate': 0.1, 'max_depth': 5, 'n_estimators': 250}\n",
            "0.942 (+/-0.155) with {'learning_rate': 0.1, 'max_depth': 5, 'n_estimators': 500}\n",
            "0.933 (+/-0.155) with {'learning_rate': 0.1, 'max_depth': 7, 'n_estimators': 5}\n",
            "0.933 (+/-0.155) with {'learning_rate': 0.1, 'max_depth': 7, 'n_estimators': 50}\n",
            "0.942 (+/-0.155) with {'learning_rate': 0.1, 'max_depth': 7, 'n_estimators': 250}\n",
            "0.942 (+/-0.155) with {'learning_rate': 0.1, 'max_depth': 7, 'n_estimators': 500}\n",
            "0.933 (+/-0.155) with {'learning_rate': 0.1, 'max_depth': 9, 'n_estimators': 5}\n",
            "0.933 (+/-0.155) with {'learning_rate': 0.1, 'max_depth': 9, 'n_estimators': 50}\n",
            "0.942 (+/-0.155) with {'learning_rate': 0.1, 'max_depth': 9, 'n_estimators': 250}\n",
            "0.942 (+/-0.155) with {'learning_rate': 0.1, 'max_depth': 9, 'n_estimators': 500}\n",
            "0.958 (+/-0.053) with {'learning_rate': 1, 'max_depth': 1, 'n_estimators': 5}\n",
            "0.942 (+/-0.085) with {'learning_rate': 1, 'max_depth': 1, 'n_estimators': 50}\n",
            "0.933 (+/-0.085) with {'learning_rate': 1, 'max_depth': 1, 'n_estimators': 250}\n",
            "0.933 (+/-0.085) with {'learning_rate': 1, 'max_depth': 1, 'n_estimators': 500}\n",
            "0.942 (+/-0.155) with {'learning_rate': 1, 'max_depth': 3, 'n_estimators': 5}\n",
            "0.942 (+/-0.155) with {'learning_rate': 1, 'max_depth': 3, 'n_estimators': 50}\n",
            "0.942 (+/-0.155) with {'learning_rate': 1, 'max_depth': 3, 'n_estimators': 250}\n",
            "0.942 (+/-0.155) with {'learning_rate': 1, 'max_depth': 3, 'n_estimators': 500}\n",
            "0.942 (+/-0.155) with {'learning_rate': 1, 'max_depth': 5, 'n_estimators': 5}\n",
            "0.942 (+/-0.155) with {'learning_rate': 1, 'max_depth': 5, 'n_estimators': 50}\n",
            "0.942 (+/-0.155) with {'learning_rate': 1, 'max_depth': 5, 'n_estimators': 250}\n",
            "0.942 (+/-0.155) with {'learning_rate': 1, 'max_depth': 5, 'n_estimators': 500}\n",
            "0.942 (+/-0.155) with {'learning_rate': 1, 'max_depth': 7, 'n_estimators': 5}\n",
            "0.942 (+/-0.155) with {'learning_rate': 1, 'max_depth': 7, 'n_estimators': 50}\n",
            "0.942 (+/-0.155) with {'learning_rate': 1, 'max_depth': 7, 'n_estimators': 250}\n",
            "0.942 (+/-0.155) with {'learning_rate': 1, 'max_depth': 7, 'n_estimators': 500}\n",
            "0.942 (+/-0.155) with {'learning_rate': 1, 'max_depth': 9, 'n_estimators': 5}\n",
            "0.942 (+/-0.155) with {'learning_rate': 1, 'max_depth': 9, 'n_estimators': 50}\n",
            "0.942 (+/-0.155) with {'learning_rate': 1, 'max_depth': 9, 'n_estimators': 250}\n",
            "0.942 (+/-0.155) with {'learning_rate': 1, 'max_depth': 9, 'n_estimators': 500}\n",
            "0.417 (+/-0.575) with {'learning_rate': 10, 'max_depth': 1, 'n_estimators': 5}\n",
            "0.417 (+/-0.575) with {'learning_rate': 10, 'max_depth': 1, 'n_estimators': 50}\n",
            "0.417 (+/-0.575) with {'learning_rate': 10, 'max_depth': 1, 'n_estimators': 250}\n",
            "0.417 (+/-0.575) with {'learning_rate': 10, 'max_depth': 1, 'n_estimators': 500}\n",
            "0.933 (+/-0.145) with {'learning_rate': 10, 'max_depth': 3, 'n_estimators': 5}\n",
            "0.942 (+/-0.155) with {'learning_rate': 10, 'max_depth': 3, 'n_estimators': 50}\n",
            "0.933 (+/-0.155) with {'learning_rate': 10, 'max_depth': 3, 'n_estimators': 250}\n",
            "0.942 (+/-0.155) with {'learning_rate': 10, 'max_depth': 3, 'n_estimators': 500}\n",
            "0.925 (+/-0.143) with {'learning_rate': 10, 'max_depth': 5, 'n_estimators': 5}\n",
            "0.933 (+/-0.155) with {'learning_rate': 10, 'max_depth': 5, 'n_estimators': 50}\n",
            "0.917 (+/-0.175) with {'learning_rate': 10, 'max_depth': 5, 'n_estimators': 250}\n",
            "0.925 (+/-0.162) with {'learning_rate': 10, 'max_depth': 5, 'n_estimators': 500}\n",
            "0.933 (+/-0.145) with {'learning_rate': 10, 'max_depth': 7, 'n_estimators': 5}\n",
            "0.925 (+/-0.162) with {'learning_rate': 10, 'max_depth': 7, 'n_estimators': 50}\n",
            "0.925 (+/-0.162) with {'learning_rate': 10, 'max_depth': 7, 'n_estimators': 250}\n",
            "0.925 (+/-0.162) with {'learning_rate': 10, 'max_depth': 7, 'n_estimators': 500}\n",
            "0.933 (+/-0.145) with {'learning_rate': 10, 'max_depth': 9, 'n_estimators': 5}\n",
            "0.917 (+/-0.175) with {'learning_rate': 10, 'max_depth': 9, 'n_estimators': 50}\n",
            "0.925 (+/-0.162) with {'learning_rate': 10, 'max_depth': 9, 'n_estimators': 250}\n",
            "0.933 (+/-0.155) with {'learning_rate': 10, 'max_depth': 9, 'n_estimators': 500}\n",
            "0.342 (+/-0.588) with {'learning_rate': 100, 'max_depth': 1, 'n_estimators': 5}\n",
            "0.342 (+/-0.588) with {'learning_rate': 100, 'max_depth': 1, 'n_estimators': 50}\n",
            "0.342 (+/-0.588) with {'learning_rate': 100, 'max_depth': 1, 'n_estimators': 250}\n",
            "0.342 (+/-0.588) with {'learning_rate': 100, 'max_depth': 1, 'n_estimators': 500}\n",
            "0.933 (+/-0.155) with {'learning_rate': 100, 'max_depth': 3, 'n_estimators': 5}\n",
            "0.933 (+/-0.155) with {'learning_rate': 100, 'max_depth': 3, 'n_estimators': 50}\n",
            "0.933 (+/-0.155) with {'learning_rate': 100, 'max_depth': 3, 'n_estimators': 250}\n",
            "0.933 (+/-0.155) with {'learning_rate': 100, 'max_depth': 3, 'n_estimators': 500}\n",
            "0.925 (+/-0.143) with {'learning_rate': 100, 'max_depth': 5, 'n_estimators': 5}\n",
            "0.917 (+/-0.149) with {'learning_rate': 100, 'max_depth': 5, 'n_estimators': 50}\n",
            "0.925 (+/-0.143) with {'learning_rate': 100, 'max_depth': 5, 'n_estimators': 250}\n",
            "0.917 (+/-0.149) with {'learning_rate': 100, 'max_depth': 5, 'n_estimators': 500}\n",
            "0.925 (+/-0.143) with {'learning_rate': 100, 'max_depth': 7, 'n_estimators': 5}\n",
            "0.925 (+/-0.143) with {'learning_rate': 100, 'max_depth': 7, 'n_estimators': 50}\n",
            "0.917 (+/-0.149) with {'learning_rate': 100, 'max_depth': 7, 'n_estimators': 250}\n",
            "0.917 (+/-0.149) with {'learning_rate': 100, 'max_depth': 7, 'n_estimators': 500}\n",
            "0.917 (+/-0.149) with {'learning_rate': 100, 'max_depth': 9, 'n_estimators': 5}\n",
            "0.917 (+/-0.149) with {'learning_rate': 100, 'max_depth': 9, 'n_estimators': 50}\n",
            "0.908 (+/-0.178) with {'learning_rate': 100, 'max_depth': 9, 'n_estimators': 250}\n",
            "0.917 (+/-0.149) with {'learning_rate': 100, 'max_depth': 9, 'n_estimators': 500}\n",
            "\n",
            "BEST PARAMS: {'learning_rate': 1, 'max_depth': 1, 'n_estimators': 5}\n",
            "\n"
          ]
        }
      ],
      "source": [
        "for X_train, y_train, train_size in zip([X_train_60, X_train_80], [y_train_60, y_train_80], [60, 80]):\n",
        "  \n",
        "  print(f\"\\nSplit ratio: {train_size}:{int((100-train_size)/2)}:{int((100-train_size)/2)}\")\n",
        "\n",
        "  gb = GradientBoostingClassifier()\n",
        "  parameters = {\n",
        "      'n_estimators': [5, 50, 250, 500],\n",
        "      'max_depth': [1, 3, 5, 7, 9],\n",
        "      'learning_rate': [0.01, 0.1, 1, 10, 100]\n",
        "  }\n",
        "\n",
        "  cv = GridSearchCV(gb, parameters, cv=5)\n",
        "  cv.fit(X_train, y_train.values.ravel())\n",
        "\n",
        "  print_cv_results(cv)\n",
        "\n",
        "  joblib.dump(cv.best_estimator_, f'GB_model_{train_size}.pkl')"
      ]
    },
    {
      "cell_type": "markdown",
      "metadata": {
        "id": "PqWHDUtxxkL6"
      },
      "source": [
        "### Model Comparison"
      ]
    },
    {
      "cell_type": "code",
      "execution_count": 20,
      "metadata": {
        "colab": {
          "base_uri": "https://localhost:8080/"
        },
        "id": "P2wfl0DnxjEq",
        "outputId": "79eccb21-3bf3-4a69-a5d2-7d009f31ccbc"
      },
      "outputs": [
        {
          "data": {
            "text/plain": [
              "{'SVM_60': SVC(C=1, kernel='linear'),\n",
              " 'SVM_80': SVC(C=1, kernel='linear'),\n",
              " 'RF_60': RandomForestClassifier(max_depth=2, n_estimators=5),\n",
              " 'RF_80': RandomForestClassifier(max_depth=4, n_estimators=5),\n",
              " 'GB_60': GradientBoostingClassifier(learning_rate=0.01, max_depth=1, n_estimators=5),\n",
              " 'GB_80': GradientBoostingClassifier(learning_rate=1, max_depth=1, n_estimators=5)}"
            ]
          },
          "execution_count": 20,
          "metadata": {},
          "output_type": "execute_result"
        }
      ],
      "source": [
        "models = dict()\n",
        "for alg in ['SVM', 'RF', 'GB']:\n",
        "  for train_size in [60, 80]:\n",
        "    models[f'{alg}_{train_size}'] = joblib.load(f'{alg}_model_{train_size}.pkl')\n",
        "models"
      ]
    },
    {
      "cell_type": "code",
      "execution_count": 21,
      "metadata": {
        "id": "myK9dFaNy3Co"
      },
      "outputs": [],
      "source": [
        "def evaluate(model_name, model, X_data, y_data):\n",
        "  alg = model_name.split('_')[0]\n",
        "  train_size = int(model_name.split('_')[1])\n",
        "  start_time = time()\n",
        "  y_pred = model.predict(X_data)\n",
        "  latency = round((time() - start_time)*1000, 2)\n",
        "  accuracy = round(accuracy_score(y_data, y_pred), 4)\n",
        "  precision = round(precision_score(y_data, y_pred, average='macro'), 4)\n",
        "  recall = round(recall_score(y_data, y_pred, average='macro'), 4)\n",
        "  print(f\"Algorithm: {alg}; Split Ratio: {train_size}:{int((100-train_size)/2)}:{int((100-train_size)/2)}; Accuracy: {accuracy}; Precision: {precision}; Recall: {recall}; Latency: {latency}ms\")"
      ]
    },
    {
      "cell_type": "code",
      "execution_count": 22,
      "metadata": {
        "colab": {
          "base_uri": "https://localhost:8080/"
        },
        "id": "GqACDQPYJZu6",
        "outputId": "e92ff2e9-f6ac-4bdf-9384-063394d16e15"
      },
      "outputs": [
        {
          "name": "stdout",
          "output_type": "stream",
          "text": [
            "Algorithm: SVM; Split Ratio: 60:20:20; Accuracy: 0.975; Precision: 0.9752; Recall: 0.975; Latency: 1.95ms\n",
            "Algorithm: SVM; Split Ratio: 80:10:10; Accuracy: 0.9917; Precision: 0.9919; Recall: 0.9917; Latency: 5.3ms\n",
            "Algorithm: RF; Split Ratio: 60:20:20; Accuracy: 0.9583; Precision: 0.96; Recall: 0.9583; Latency: 3.23ms\n",
            "Algorithm: RF; Split Ratio: 80:10:10; Accuracy: 0.9917; Precision: 0.9919; Recall: 0.9917; Latency: 2.99ms\n",
            "Algorithm: GB; Split Ratio: 60:20:20; Accuracy: 0.9583; Precision: 0.96; Recall: 0.9583; Latency: 2.24ms\n",
            "Algorithm: GB; Split Ratio: 80:10:10; Accuracy: 0.975; Precision: 0.9767; Recall: 0.975; Latency: 1.95ms\n"
          ]
        }
      ],
      "source": [
        "# Evaluation on the training data\n",
        "for model_name, model in models.items():\n",
        "  if model_name[:-3] == \"_60\":\n",
        "    evaluate(model_name, model, X_train_60, y_train_60)\n",
        "  else:\n",
        "    evaluate(model_name, model, X_train_80, y_train_80)"
      ]
    },
    {
      "cell_type": "code",
      "execution_count": 23,
      "metadata": {
        "colab": {
          "base_uri": "https://localhost:8080/"
        },
        "id": "jPwba0P61XEV",
        "outputId": "34cbf6e9-e410-4135-ff28-e8fa399b857f"
      },
      "outputs": [
        {
          "name": "stdout",
          "output_type": "stream",
          "text": [
            "Algorithm: SVM; Split Ratio: 60:20:20; Accuracy: 0.9333; Precision: 0.9444; Recall: 0.9333; Latency: 1.97ms\n",
            "Algorithm: SVM; Split Ratio: 80:10:10; Accuracy: 0.9333; Precision: 0.9444; Recall: 0.9333; Latency: 4.48ms\n",
            "Algorithm: RF; Split Ratio: 60:20:20; Accuracy: 0.9333; Precision: 0.9444; Recall: 0.9333; Latency: 3.11ms\n",
            "Algorithm: RF; Split Ratio: 80:10:10; Accuracy: 0.9333; Precision: 0.9444; Recall: 0.9333; Latency: 2.9ms\n",
            "Algorithm: GB; Split Ratio: 60:20:20; Accuracy: 0.8667; Precision: 0.9048; Recall: 0.8667; Latency: 1.96ms\n",
            "Algorithm: GB; Split Ratio: 80:10:10; Accuracy: 0.9333; Precision: 0.9444; Recall: 0.9333; Latency: 1.89ms\n"
          ]
        }
      ],
      "source": [
        "# Evaluation on the validation data\n",
        "for model_name, model in models.items():\n",
        "  if model_name[:-3] == \"_60\":\n",
        "    evaluate(model_name, model, X_val_60, y_val_60)\n",
        "  else:\n",
        "    evaluate(model_name, model, X_val_80, y_val_80)"
      ]
    },
    {
      "cell_type": "markdown",
      "metadata": {
        "id": "Bw60qqosBeuE"
      },
      "source": [
        "**Inferences from the predictions on the validation set:**\n",
        "\n",
        "1. SVM has almost the same performance on both the split ratios in terms of performance metrics. Latency was slightly better for the 80-10-10 split.\n",
        "2. Random Forest model trained on 80-10-10 split data has a comparitively higher performance metrics. Also, the latency is much smaller than the other split.\n",
        "3. Gradient Boosting also displayed much better performance metrics while using the 80-10-10 split data.\n",
        "4. Among the three types of algorithms, all three trained on the 80-10-10 split data have similar classification power. Latency is the only determining factor here. Of the three, 80-10-10 split data trained algorithms, gradient boosting has the best latency. (At least slightly)\n",
        "\n"
      ]
    },
    {
      "cell_type": "code",
      "execution_count": 24,
      "metadata": {
        "colab": {
          "base_uri": "https://localhost:8080/"
        },
        "id": "5iO_Eb4B1qIY",
        "outputId": "d0c949b8-9075-4785-c544-c0706022f7e0"
      },
      "outputs": [
        {
          "name": "stdout",
          "output_type": "stream",
          "text": [
            "Algorithm: SVM; Split Ratio: 60:20:20; Accuracy: 1.0; Precision: 1.0; Recall: 1.0; Latency: 2.42ms\n",
            "Algorithm: SVM; Split Ratio: 80:10:10; Accuracy: 1.0; Precision: 1.0; Recall: 1.0; Latency: 3.15ms\n",
            "Algorithm: RF; Split Ratio: 60:20:20; Accuracy: 1.0; Precision: 1.0; Recall: 1.0; Latency: 3.04ms\n",
            "Algorithm: RF; Split Ratio: 80:10:10; Accuracy: 1.0; Precision: 1.0; Recall: 1.0; Latency: 2.38ms\n",
            "Algorithm: GB; Split Ratio: 60:20:20; Accuracy: 1.0; Precision: 1.0; Recall: 1.0; Latency: 1.8ms\n",
            "Algorithm: GB; Split Ratio: 80:10:10; Accuracy: 1.0; Precision: 1.0; Recall: 1.0; Latency: 1.99ms\n"
          ]
        }
      ],
      "source": [
        "# Evaluation on the test data\n",
        "for model_name, model in models.items():\n",
        "  if model_name[:-3] == \"_60\":\n",
        "    evaluate(model_name, model, X_test_60, y_test_60)\n",
        "  else:\n",
        "    evaluate(model_name, model, X_test_80, y_test_80)"
      ]
    },
    {
      "cell_type": "markdown",
      "metadata": {
        "id": "UwMdkaJ5F8Nq"
      },
      "source": [
        "Inferences similar to that from the validation data are found from the test data as well. Here the latency for SVM is slightly better than the GB. But since the validation data latency difference is better for the GB, we conclude that the Gradient boosting algorithm trained on 80-10-10 split data is the best among these."
      ]
    },
    {
      "cell_type": "markdown",
      "metadata": {
        "id": "nmdRlXayGWMy"
      },
      "source": [
        "#### Conclusion"
      ]
    },
    {
      "cell_type": "markdown",
      "metadata": {
        "id": "pt7RSfesGYCp"
      },
      "source": [
        "It was found that for all the three algorithms, the 80-10-10 split data gave better performance. And among the three, Gradient Boosting model is chosen to be the best classifier in terms of precision, recall, f1-score and latency.\n",
        "\n",
        "The classification report for the best model is as follows."
      ]
    },
    {
      "cell_type": "code",
      "execution_count": 25,
      "metadata": {
        "colab": {
          "base_uri": "https://localhost:8080/",
          "height": 70
        },
        "id": "6iGoXpfE4cvd",
        "outputId": "aae3ac51-431c-4110-bbd1-8f93fa777e87"
      },
      "outputs": [
        {
          "data": {
            "application/vnd.google.colaboratory.intrinsic+json": {
              "type": "string"
            },
            "text/plain": [
              "'              precision    recall  f1-score   support\\n\\n           0       1.00      1.00      1.00         5\\n           1       1.00      1.00      1.00         5\\n           2       1.00      1.00      1.00         5\\n\\n    accuracy                           1.00        15\\n   macro avg       1.00      1.00      1.00        15\\nweighted avg       1.00      1.00      1.00        15\\n'"
            ]
          },
          "execution_count": 25,
          "metadata": {},
          "output_type": "execute_result"
        }
      ],
      "source": [
        "model = joblib.load('GB_model_80.pkl')\n",
        "y_pred = model.predict(X_test_80)\n",
        "classification_report(y_test_80, y_pred)"
      ]
    }
  ],
  "metadata": {
    "colab": {
      "collapsed_sections": [
        "ABgs3xSvYdAD",
        "dVRqVWW4uohp",
        "e62HlgaWvP1P"
      ],
      "provenance": []
    },
    "kernelspec": {
      "display_name": "Python 3.8.8 ('base')",
      "language": "python",
      "name": "python3"
    },
    "language_info": {
      "name": "python",
      "version": "3.8.8"
    },
    "vscode": {
      "interpreter": {
        "hash": "452b90bea1dc56bb7abd92e2828b74e7b1bfd708fd58372070ca854e487506c8"
      }
    }
  },
  "nbformat": 4,
  "nbformat_minor": 0
}
